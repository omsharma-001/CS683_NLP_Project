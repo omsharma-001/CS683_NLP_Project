{
  "nbformat": 4,
  "nbformat_minor": 0,
  "metadata": {
    "colab": {
      "provenance": []
    },
    "kernelspec": {
      "name": "python3",
      "display_name": "Python 3"
    },
    "language_info": {
      "name": "python"
    }
  },
  "cells": [
    {
      "cell_type": "code",
      "execution_count": null,
      "metadata": {
        "id": "Fv-IshlYQWzg"
      },
      "outputs": [],
      "source": [
        "import pandas as pd\n",
        "from sklearn.model_selection import train_test_split\n",
        "import re\n",
        "import string\n"
      ]
    },
    {
      "cell_type": "code",
      "source": [
        "file_path = '/content/updated_banking_faq_queries.csv.2'\n",
        "df = pd.read_csv(file_path)"
      ],
      "metadata": {
        "id": "6R_Tv342VDAo"
      },
      "execution_count": null,
      "outputs": []
    },
    {
      "cell_type": "code",
      "source": [
        "def preprocess_text(text):\n",
        "    text = text.translate(str.maketrans('', '', string.punctuation))\n",
        "    text = text.lower()\n",
        "    text = re.sub(r'\\d+', '', text)\n",
        "    return text"
      ],
      "metadata": {
        "id": "ED9CjtJ1VKo4"
      },
      "execution_count": null,
      "outputs": []
    },
    {
      "cell_type": "code",
      "source": [
        "df['cleaned_variation'] = df['Variation'].apply(preprocess_text)"
      ],
      "metadata": {
        "id": "yPicGFDHVU3e"
      },
      "execution_count": null,
      "outputs": []
    },
    {
      "cell_type": "code",
      "source": [
        "distinct_values = df['CAT_A'].unique()\n",
        "distinct_values\n"
      ],
      "metadata": {
        "colab": {
          "base_uri": "https://localhost:8080/"
        },
        "id": "R8GY9TdeEomL",
        "outputId": "bc5b1cad-855f-448a-d8f3-477f80f50711"
      },
      "execution_count": null,
      "outputs": [
        {
          "output_type": "execute_result",
          "data": {
            "text/plain": [
              "array(['How do I open a new bank account?',\n",
              "       'What documents are required for account verification?',\n",
              "       'How do I close my account?',\n",
              "       'How do I update my personal details?',\n",
              "       'I forgot my username/password. How can I recover it?',\n",
              "       'How do I reset my online banking password?',\n",
              "       'What should I do if my account is locked?',\n",
              "       'How can I enable two-factor authentication (2FA)?',\n",
              "       'Why hasn’t my transfer gone through?',\n",
              "       'How can I track my transaction history?',\n",
              "       'I made a transfer to the wrong account. Can I reverse it?',\n",
              "       'What are the daily transfer limits?',\n",
              "       'How do I activate my new credit/debit card?',\n",
              "       'What should I do if my card is lost/stolen?',\n",
              "       'How do I request a credit limit increase?',\n",
              "       'How can I block or unblock my card?',\n",
              "       'How do I apply for a personal loan?',\n",
              "       'What is the interest rate on loans?',\n",
              "       'How do I repay my loan early?',\n",
              "       'What are the eligibility criteria for a mortgage?',\n",
              "       'Why did my payment fail?',\n",
              "       'How do I set up auto-payments for my bills?',\n",
              "       'How can I check the status of a scheduled payment?',\n",
              "       'How can I stop or modify a recurring payment?',\n",
              "       'I suspect fraudulent activity on my account. What should I do?',\n",
              "       'How do I dispute a transaction?',\n",
              "       'What happens after I report a fraudulent transaction?',\n",
              "       'How can I protect myself from online banking fraud?',\n",
              "       'Why was I charged a fee on my account?',\n",
              "       'How do I avoid monthly maintenance fees?',\n",
              "       'What are the fees for international transfers?',\n",
              "       'Can I get a refund for an overdraft fee?',\n",
              "       'What is the current interest rate on savings accounts?',\n",
              "       'How do I open a fixed deposit account?',\n",
              "       'Can I withdraw money from my savings account before maturity?',\n",
              "       'How is interest calculated on savings accounts?',\n",
              "       'How do I register for online banking?',\n",
              "       'How can I check my account balance online?',\n",
              "       'How do I download the mobile banking app?',\n",
              "       'How can I change my transaction limits in the mobile app?',\n",
              "       'Where is the nearest bank branch or ATM?',\n",
              "       'How do I withdraw cash without a card from an ATM?',\n",
              "       'What is the maximum amount I can withdraw from an ATM?',\n",
              "       'Can I deposit checks using an ATM?',\n",
              "       'What are the bank’s working hours?',\n",
              "       'How do I contact customer service?',\n",
              "       'Where can I find my account number/IBAN/SWIFT code?',\n",
              "       'How do I apply for a new service or product?'], dtype=object)"
            ]
          },
          "metadata": {},
          "execution_count": 69
        }
      ]
    },
    {
      "cell_type": "code",
      "source": [
        "from sklearn.preprocessing import LabelEncoder\n",
        "le = LabelEncoder()\n",
        "df['CAT_A_encoded'] = le.fit_transform(df['CAT_A'])"
      ],
      "metadata": {
        "id": "bCu5zYLnc22X"
      },
      "execution_count": null,
      "outputs": []
    },
    {
      "cell_type": "code",
      "source": [
        "from sklearn.preprocessing import LabelEncoder\n",
        "\n",
        "le = LabelEncoder()\n",
        "df['CAT_A_encoded'] = le.fit_transform(df['CAT_A'])\n",
        "\n",
        "label_mapping = dict(zip(le.classes_, le.transform(le.classes_)))\n",
        "\n",
        "print(label_mapping)"
      ],
      "metadata": {
        "colab": {
          "base_uri": "https://localhost:8080/"
        },
        "id": "V9yNYGLyDAlX",
        "outputId": "a9282f8d-fb45-4a46-a5da-dd1f1761fb20"
      },
      "execution_count": null,
      "outputs": [
        {
          "output_type": "stream",
          "name": "stdout",
          "text": [
            "{'Can I deposit checks using an ATM?': 0, 'Can I get a refund for an overdraft fee?': 1, 'Can I withdraw money from my savings account before maturity?': 2, 'How can I block or unblock my card?': 3, 'How can I change my transaction limits in the mobile app?': 4, 'How can I check my account balance online?': 5, 'How can I check the status of a scheduled payment?': 6, 'How can I enable two-factor authentication (2FA)?': 7, 'How can I protect myself from online banking fraud?': 8, 'How can I stop or modify a recurring payment?': 9, 'How can I track my transaction history?': 10, 'How do I activate my new credit/debit card?': 11, 'How do I apply for a new service or product?': 12, 'How do I apply for a personal loan?': 13, 'How do I avoid monthly maintenance fees?': 14, 'How do I close my account?': 15, 'How do I contact customer service?': 16, 'How do I dispute a transaction?': 17, 'How do I download the mobile banking app?': 18, 'How do I open a fixed deposit account?': 19, 'How do I open a new bank account?': 20, 'How do I register for online banking?': 21, 'How do I repay my loan early?': 22, 'How do I request a credit limit increase?': 23, 'How do I reset my online banking password?': 24, 'How do I set up auto-payments for my bills?': 25, 'How do I update my personal details?': 26, 'How do I withdraw cash without a card from an ATM?': 27, 'How is interest calculated on savings accounts?': 28, 'I forgot my username/password. How can I recover it?': 29, 'I made a transfer to the wrong account. Can I reverse it?': 30, 'I suspect fraudulent activity on my account. What should I do?': 31, 'What are the bank’s working hours?': 32, 'What are the daily transfer limits?': 33, 'What are the eligibility criteria for a mortgage?': 34, 'What are the fees for international transfers?': 35, 'What documents are required for account verification?': 36, 'What happens after I report a fraudulent transaction?': 37, 'What is the current interest rate on savings accounts?': 38, 'What is the interest rate on loans?': 39, 'What is the maximum amount I can withdraw from an ATM?': 40, 'What should I do if my account is locked?': 41, 'What should I do if my card is lost/stolen?': 42, 'Where can I find my account number/IBAN/SWIFT code?': 43, 'Where is the nearest bank branch or ATM?': 44, 'Why did my payment fail?': 45, 'Why hasn’t my transfer gone through?': 46, 'Why was I charged a fee on my account?': 47}\n"
          ]
        }
      ]
    },
    {
      "cell_type": "code",
      "source": [
        "train_sentences = df[\"cleaned_variation\"].to_numpy()\n",
        "train_labels = df[\"CAT_A_encoded\"].to_numpy()"
      ],
      "metadata": {
        "id": "LcrgSzhIWmX6"
      },
      "execution_count": null,
      "outputs": []
    },
    {
      "cell_type": "code",
      "source": [
        "train_labels.shape"
      ],
      "metadata": {
        "colab": {
          "base_uri": "https://localhost:8080/"
        },
        "id": "hwVSUfHYfNHS",
        "outputId": "88114379-5f4b-416e-fd7f-fe64830a8810"
      },
      "execution_count": null,
      "outputs": [
        {
          "output_type": "execute_result",
          "data": {
            "text/plain": [
              "(2400,)"
            ]
          },
          "metadata": {},
          "execution_count": 11
        }
      ]
    },
    {
      "cell_type": "code",
      "source": [
        "X_train, X_test, y_train, y_test = train_test_split(train_sentences, train_labels, test_size=0.2, random_state=42)"
      ],
      "metadata": {
        "id": "jwynNWmdbYDr"
      },
      "execution_count": null,
      "outputs": []
    },
    {
      "cell_type": "code",
      "source": [
        "y_train"
      ],
      "metadata": {
        "colab": {
          "base_uri": "https://localhost:8080/"
        },
        "id": "n4OPMS4FOeMy",
        "outputId": "4b407266-4b26-4d25-c279-03791d169814"
      },
      "execution_count": null,
      "outputs": [
        {
          "output_type": "execute_result",
          "data": {
            "text/plain": [
              "array([15, 24,  2, ...,  6, 17, 39])"
            ]
          },
          "metadata": {},
          "execution_count": 13
        }
      ]
    },
    {
      "cell_type": "code",
      "source": [
        "import tensorflow as tf\n",
        "from tensorflow.keras.layers import TextVectorization\n"
      ],
      "metadata": {
        "id": "suZANhGCbmuw"
      },
      "execution_count": null,
      "outputs": []
    },
    {
      "cell_type": "code",
      "source": [
        "text_vectorizer = TextVectorization(max_tokens=None, standardize=\"lower_and_strip_punctuation\", split=\"whitespace\",  ngrams=None, output_mode=\"int\", output_sequence_length=None)"
      ],
      "metadata": {
        "id": "qW9REP_pbr25"
      },
      "execution_count": null,
      "outputs": []
    },
    {
      "cell_type": "code",
      "source": [
        "round(sum([len(i.split()) for i in X_train])/len(X_train))"
      ],
      "metadata": {
        "colab": {
          "base_uri": "https://localhost:8080/"
        },
        "id": "yIZBEB_abxTd",
        "outputId": "e3dc52d1-fc74-4bdf-b963-965a510fdb1a"
      },
      "execution_count": null,
      "outputs": [
        {
          "output_type": "execute_result",
          "data": {
            "text/plain": [
              "11"
            ]
          },
          "metadata": {},
          "execution_count": 16
        }
      ]
    },
    {
      "cell_type": "code",
      "source": [
        "max_vocab_length = 10000\n",
        "max_length = 20"
      ],
      "metadata": {
        "id": "ig5Xxo6lb7aD"
      },
      "execution_count": null,
      "outputs": []
    },
    {
      "cell_type": "code",
      "source": [
        "text_vectorizer = TextVectorization(max_tokens=max_vocab_length,\n",
        "                                    output_mode=\"int\",\n",
        "                                    output_sequence_length=max_length)"
      ],
      "metadata": {
        "id": "aWJq7obacAv1"
      },
      "execution_count": null,
      "outputs": []
    },
    {
      "cell_type": "code",
      "source": [
        "text_vectorizer.adapt(X_train)"
      ],
      "metadata": {
        "id": "9-obFMarcCzb"
      },
      "execution_count": null,
      "outputs": []
    },
    {
      "cell_type": "code",
      "source": [
        "sample_sentence = \"There's a flood in my street!\"\n",
        "text_vectorizer([sample_sentence])"
      ],
      "metadata": {
        "colab": {
          "base_uri": "https://localhost:8080/"
        },
        "id": "gfOsXu5FcIG9",
        "outputId": "06d06bd0-300c-47d8-9c8b-c4f15bda141f"
      },
      "execution_count": null,
      "outputs": [
        {
          "output_type": "execute_result",
          "data": {
            "text/plain": [
              "<tf.Tensor: shape=(1, 20), dtype=int64, numpy=\n",
              "array([[838,   8,   1,  27,   3,   1,   0,   0,   0,   0,   0,   0,   0,\n",
              "          0,   0,   0,   0,   0,   0,   0]])>"
            ]
          },
          "metadata": {},
          "execution_count": 20
        }
      ]
    },
    {
      "cell_type": "code",
      "source": [
        "tf.random.set_seed(42)\n",
        "from tensorflow.keras import layers"
      ],
      "metadata": {
        "id": "l_5LwQ-kcL-M"
      },
      "execution_count": null,
      "outputs": []
    },
    {
      "cell_type": "code",
      "source": [
        "embedding = layers.Embedding(input_dim=max_vocab_length,\n",
        "                             output_dim=128,\n",
        "                             embeddings_initializer=\"uniform\",\n",
        "                             input_length=max_length,\n",
        "                             name=\"embedding_1\")"
      ],
      "metadata": {
        "colab": {
          "base_uri": "https://localhost:8080/"
        },
        "id": "uxa2lJIVcOsS",
        "outputId": "302a952b-ac98-4423-eea3-6297419f737f"
      },
      "execution_count": null,
      "outputs": [
        {
          "output_type": "stream",
          "name": "stderr",
          "text": [
            "/usr/local/lib/python3.10/dist-packages/keras/src/layers/core/embedding.py:90: UserWarning: Argument `input_length` is deprecated. Just remove it.\n",
            "  warnings.warn(\n"
          ]
        }
      ]
    },
    {
      "cell_type": "code",
      "source": [
        "import random\n",
        "random_sentence = random.choice(X_train)\n",
        "print(f\"Original text:\\n{random_sentence}\\\n",
        "      \\n\\nEmbedded version:\")\n",
        "\n",
        "sample_embed = embedding(text_vectorizer([random_sentence]))\n",
        "sample_embed"
      ],
      "metadata": {
        "colab": {
          "base_uri": "https://localhost:8080/"
        },
        "id": "9fxbg4LPcRrN",
        "outputId": "d222f0be-3159-4ba9-e866-e53371ddf9d9"
      },
      "execution_count": null,
      "outputs": [
        {
          "output_type": "stream",
          "name": "stdout",
          "text": [
            "Original text:\n",
            "what protections do i have against fraud on my account      \n",
            "\n",
            "Embedded version:\n"
          ]
        },
        {
          "output_type": "execute_result",
          "data": {
            "text/plain": [
              "<tf.Tensor: shape=(1, 20, 128), dtype=float32, numpy=\n",
              "array([[[-0.04966151, -0.01337762, -0.03872795, ...,  0.04911056,\n",
              "          0.02110047, -0.01044925],\n",
              "        [ 0.00264834,  0.03271407,  0.01709182, ..., -0.0046545 ,\n",
              "         -0.02428919,  0.01326612],\n",
              "        [-0.02545686,  0.0101047 ,  0.00307274, ...,  0.04726168,\n",
              "          0.01722542,  0.00299506],\n",
              "        ...,\n",
              "        [-0.01642863,  0.03795857, -0.01505759, ...,  0.03567597,\n",
              "         -0.0482098 ,  0.02025864],\n",
              "        [-0.01642863,  0.03795857, -0.01505759, ...,  0.03567597,\n",
              "         -0.0482098 ,  0.02025864],\n",
              "        [-0.01642863,  0.03795857, -0.01505759, ...,  0.03567597,\n",
              "         -0.0482098 ,  0.02025864]]], dtype=float32)>"
            ]
          },
          "metadata": {},
          "execution_count": 23
        }
      ]
    },
    {
      "cell_type": "code",
      "source": [
        "from sklearn.metrics import accuracy_score, precision_recall_fscore_support\n",
        "\n",
        "def calculate_results(y_true, y_pred):\n",
        "\n",
        "  model_accuracy = accuracy_score(y_true, y_pred) * 100\n",
        "\n",
        "  model_precision, model_recall, model_f1, _ = precision_recall_fscore_support(y_true, y_pred, average=\"weighted\")\n",
        "  model_results = {\"accuracy\": model_accuracy,\n",
        "                  \"precision\": model_precision,\n",
        "                  \"recall\": model_recall,\n",
        "                  \"f1\": model_f1}\n",
        "  return model_results"
      ],
      "metadata": {
        "id": "gfheKNW8cbwz"
      },
      "execution_count": null,
      "outputs": []
    },
    {
      "cell_type": "code",
      "source": [
        "from tensorflow.keras import layers\n",
        "from tensorflow.keras.regularizers import l2\n",
        "\n",
        "inputs = layers.Input(shape=(1,), dtype=\"string\")\n",
        "x = text_vectorizer(inputs)\n",
        "x = embedding(x)\n",
        "x = layers.LSTM(128)(x)\n",
        "x = layers.Dense(100, activation=\"relu\")(x)\n",
        "x = layers.Dense(50, activation=\"relu\")(x)\n",
        "outputs = layers.Dense(48, activation=\"softmax\")(x)\n",
        "model_1 = tf.keras.Model(inputs, outputs, name=\"model_1_LSTM\")"
      ],
      "metadata": {
        "id": "3qtkTG_EciIQ"
      },
      "execution_count": null,
      "outputs": []
    },
    {
      "cell_type": "code",
      "source": [
        "model_1.compile(\n",
        "    loss=\"sparse_categorical_crossentropy\",\n",
        "    optimizer=tf.keras.optimizers.Adam(),\n",
        "    metrics=[\"accuracy\"],\n",
        ")\n"
      ],
      "metadata": {
        "id": "lNX9RiFWdP6b"
      },
      "execution_count": null,
      "outputs": []
    },
    {
      "cell_type": "code",
      "source": [
        "model_1.summary()"
      ],
      "metadata": {
        "colab": {
          "base_uri": "https://localhost:8080/",
          "height": 369
        },
        "id": "6rsqUWp0dSt9",
        "outputId": "007e1d7f-2fb0-42bd-ea72-a4cfafdc5315"
      },
      "execution_count": null,
      "outputs": [
        {
          "output_type": "display_data",
          "data": {
            "text/plain": [
              "\u001b[1mModel: \"model_1_LSTM\"\u001b[0m\n"
            ],
            "text/html": [
              "<pre style=\"white-space:pre;overflow-x:auto;line-height:normal;font-family:Menlo,'DejaVu Sans Mono',consolas,'Courier New',monospace\"><span style=\"font-weight: bold\">Model: \"model_1_LSTM\"</span>\n",
              "</pre>\n"
            ]
          },
          "metadata": {}
        },
        {
          "output_type": "display_data",
          "data": {
            "text/plain": [
              "┏━━━━━━━━━━━━━━━━━━━━━━━━━━━━━━━━━━━━━━┳━━━━━━━━━━━━━━━━━━━━━━━━━━━━━┳━━━━━━━━━━━━━━━━━┓\n",
              "┃\u001b[1m \u001b[0m\u001b[1mLayer (type)                        \u001b[0m\u001b[1m \u001b[0m┃\u001b[1m \u001b[0m\u001b[1mOutput Shape               \u001b[0m\u001b[1m \u001b[0m┃\u001b[1m \u001b[0m\u001b[1m        Param #\u001b[0m\u001b[1m \u001b[0m┃\n",
              "┡━━━━━━━━━━━━━━━━━━━━━━━━━━━━━━━━━━━━━━╇━━━━━━━━━━━━━━━━━━━━━━━━━━━━━╇━━━━━━━━━━━━━━━━━┩\n",
              "│ input_layer (\u001b[38;5;33mInputLayer\u001b[0m)             │ (\u001b[38;5;45mNone\u001b[0m, \u001b[38;5;34m1\u001b[0m)                   │               \u001b[38;5;34m0\u001b[0m │\n",
              "├──────────────────────────────────────┼─────────────────────────────┼─────────────────┤\n",
              "│ text_vectorization_1                 │ (\u001b[38;5;45mNone\u001b[0m, \u001b[38;5;34m20\u001b[0m)                  │               \u001b[38;5;34m0\u001b[0m │\n",
              "│ (\u001b[38;5;33mTextVectorization\u001b[0m)                  │                             │                 │\n",
              "├──────────────────────────────────────┼─────────────────────────────┼─────────────────┤\n",
              "│ embedding_1 (\u001b[38;5;33mEmbedding\u001b[0m)              │ (\u001b[38;5;45mNone\u001b[0m, \u001b[38;5;34m20\u001b[0m, \u001b[38;5;34m128\u001b[0m)             │       \u001b[38;5;34m1,280,000\u001b[0m │\n",
              "├──────────────────────────────────────┼─────────────────────────────┼─────────────────┤\n",
              "│ lstm (\u001b[38;5;33mLSTM\u001b[0m)                          │ (\u001b[38;5;45mNone\u001b[0m, \u001b[38;5;34m128\u001b[0m)                 │         \u001b[38;5;34m131,584\u001b[0m │\n",
              "├──────────────────────────────────────┼─────────────────────────────┼─────────────────┤\n",
              "│ dense (\u001b[38;5;33mDense\u001b[0m)                        │ (\u001b[38;5;45mNone\u001b[0m, \u001b[38;5;34m100\u001b[0m)                 │          \u001b[38;5;34m12,900\u001b[0m │\n",
              "├──────────────────────────────────────┼─────────────────────────────┼─────────────────┤\n",
              "│ dense_1 (\u001b[38;5;33mDense\u001b[0m)                      │ (\u001b[38;5;45mNone\u001b[0m, \u001b[38;5;34m50\u001b[0m)                  │           \u001b[38;5;34m5,050\u001b[0m │\n",
              "├──────────────────────────────────────┼─────────────────────────────┼─────────────────┤\n",
              "│ dense_2 (\u001b[38;5;33mDense\u001b[0m)                      │ (\u001b[38;5;45mNone\u001b[0m, \u001b[38;5;34m48\u001b[0m)                  │           \u001b[38;5;34m2,448\u001b[0m │\n",
              "└──────────────────────────────────────┴─────────────────────────────┴─────────────────┘\n"
            ],
            "text/html": [
              "<pre style=\"white-space:pre;overflow-x:auto;line-height:normal;font-family:Menlo,'DejaVu Sans Mono',consolas,'Courier New',monospace\">┏━━━━━━━━━━━━━━━━━━━━━━━━━━━━━━━━━━━━━━┳━━━━━━━━━━━━━━━━━━━━━━━━━━━━━┳━━━━━━━━━━━━━━━━━┓\n",
              "┃<span style=\"font-weight: bold\"> Layer (type)                         </span>┃<span style=\"font-weight: bold\"> Output Shape                </span>┃<span style=\"font-weight: bold\">         Param # </span>┃\n",
              "┡━━━━━━━━━━━━━━━━━━━━━━━━━━━━━━━━━━━━━━╇━━━━━━━━━━━━━━━━━━━━━━━━━━━━━╇━━━━━━━━━━━━━━━━━┩\n",
              "│ input_layer (<span style=\"color: #0087ff; text-decoration-color: #0087ff\">InputLayer</span>)             │ (<span style=\"color: #00d7ff; text-decoration-color: #00d7ff\">None</span>, <span style=\"color: #00af00; text-decoration-color: #00af00\">1</span>)                   │               <span style=\"color: #00af00; text-decoration-color: #00af00\">0</span> │\n",
              "├──────────────────────────────────────┼─────────────────────────────┼─────────────────┤\n",
              "│ text_vectorization_1                 │ (<span style=\"color: #00d7ff; text-decoration-color: #00d7ff\">None</span>, <span style=\"color: #00af00; text-decoration-color: #00af00\">20</span>)                  │               <span style=\"color: #00af00; text-decoration-color: #00af00\">0</span> │\n",
              "│ (<span style=\"color: #0087ff; text-decoration-color: #0087ff\">TextVectorization</span>)                  │                             │                 │\n",
              "├──────────────────────────────────────┼─────────────────────────────┼─────────────────┤\n",
              "│ embedding_1 (<span style=\"color: #0087ff; text-decoration-color: #0087ff\">Embedding</span>)              │ (<span style=\"color: #00d7ff; text-decoration-color: #00d7ff\">None</span>, <span style=\"color: #00af00; text-decoration-color: #00af00\">20</span>, <span style=\"color: #00af00; text-decoration-color: #00af00\">128</span>)             │       <span style=\"color: #00af00; text-decoration-color: #00af00\">1,280,000</span> │\n",
              "├──────────────────────────────────────┼─────────────────────────────┼─────────────────┤\n",
              "│ lstm (<span style=\"color: #0087ff; text-decoration-color: #0087ff\">LSTM</span>)                          │ (<span style=\"color: #00d7ff; text-decoration-color: #00d7ff\">None</span>, <span style=\"color: #00af00; text-decoration-color: #00af00\">128</span>)                 │         <span style=\"color: #00af00; text-decoration-color: #00af00\">131,584</span> │\n",
              "├──────────────────────────────────────┼─────────────────────────────┼─────────────────┤\n",
              "│ dense (<span style=\"color: #0087ff; text-decoration-color: #0087ff\">Dense</span>)                        │ (<span style=\"color: #00d7ff; text-decoration-color: #00d7ff\">None</span>, <span style=\"color: #00af00; text-decoration-color: #00af00\">100</span>)                 │          <span style=\"color: #00af00; text-decoration-color: #00af00\">12,900</span> │\n",
              "├──────────────────────────────────────┼─────────────────────────────┼─────────────────┤\n",
              "│ dense_1 (<span style=\"color: #0087ff; text-decoration-color: #0087ff\">Dense</span>)                      │ (<span style=\"color: #00d7ff; text-decoration-color: #00d7ff\">None</span>, <span style=\"color: #00af00; text-decoration-color: #00af00\">50</span>)                  │           <span style=\"color: #00af00; text-decoration-color: #00af00\">5,050</span> │\n",
              "├──────────────────────────────────────┼─────────────────────────────┼─────────────────┤\n",
              "│ dense_2 (<span style=\"color: #0087ff; text-decoration-color: #0087ff\">Dense</span>)                      │ (<span style=\"color: #00d7ff; text-decoration-color: #00d7ff\">None</span>, <span style=\"color: #00af00; text-decoration-color: #00af00\">48</span>)                  │           <span style=\"color: #00af00; text-decoration-color: #00af00\">2,448</span> │\n",
              "└──────────────────────────────────────┴─────────────────────────────┴─────────────────┘\n",
              "</pre>\n"
            ]
          },
          "metadata": {}
        },
        {
          "output_type": "display_data",
          "data": {
            "text/plain": [
              "\u001b[1m Total params: \u001b[0m\u001b[38;5;34m1,431,982\u001b[0m (5.46 MB)\n"
            ],
            "text/html": [
              "<pre style=\"white-space:pre;overflow-x:auto;line-height:normal;font-family:Menlo,'DejaVu Sans Mono',consolas,'Courier New',monospace\"><span style=\"font-weight: bold\"> Total params: </span><span style=\"color: #00af00; text-decoration-color: #00af00\">1,431,982</span> (5.46 MB)\n",
              "</pre>\n"
            ]
          },
          "metadata": {}
        },
        {
          "output_type": "display_data",
          "data": {
            "text/plain": [
              "\u001b[1m Trainable params: \u001b[0m\u001b[38;5;34m1,431,982\u001b[0m (5.46 MB)\n"
            ],
            "text/html": [
              "<pre style=\"white-space:pre;overflow-x:auto;line-height:normal;font-family:Menlo,'DejaVu Sans Mono',consolas,'Courier New',monospace\"><span style=\"font-weight: bold\"> Trainable params: </span><span style=\"color: #00af00; text-decoration-color: #00af00\">1,431,982</span> (5.46 MB)\n",
              "</pre>\n"
            ]
          },
          "metadata": {}
        },
        {
          "output_type": "display_data",
          "data": {
            "text/plain": [
              "\u001b[1m Non-trainable params: \u001b[0m\u001b[38;5;34m0\u001b[0m (0.00 B)\n"
            ],
            "text/html": [
              "<pre style=\"white-space:pre;overflow-x:auto;line-height:normal;font-family:Menlo,'DejaVu Sans Mono',consolas,'Courier New',monospace\"><span style=\"font-weight: bold\"> Non-trainable params: </span><span style=\"color: #00af00; text-decoration-color: #00af00\">0</span> (0.00 B)\n",
              "</pre>\n"
            ]
          },
          "metadata": {}
        }
      ]
    },
    {
      "cell_type": "code",
      "source": [
        "model_1_history = model_1.fit(X_train,\n",
        "                              y_train,\n",
        "                              epochs=50,\n",
        "                              )"
      ],
      "metadata": {
        "colab": {
          "base_uri": "https://localhost:8080/"
        },
        "id": "7kV9HZFJdgW5",
        "outputId": "5422b394-64ca-47fa-8a93-d9c73fa8d0b0"
      },
      "execution_count": null,
      "outputs": [
        {
          "output_type": "stream",
          "name": "stdout",
          "text": [
            "Epoch 1/50\n",
            "\u001b[1m60/60\u001b[0m \u001b[32m━━━━━━━━━━━━━━━━━━━━\u001b[0m\u001b[37m\u001b[0m \u001b[1m7s\u001b[0m 51ms/step - accuracy: 0.0099 - loss: 3.8727\n",
            "Epoch 2/50\n",
            "\u001b[1m60/60\u001b[0m \u001b[32m━━━━━━━━━━━━━━━━━━━━\u001b[0m\u001b[37m\u001b[0m \u001b[1m4s\u001b[0m 41ms/step - accuracy: 0.0541 - loss: 3.5922\n",
            "Epoch 3/50\n",
            "\u001b[1m60/60\u001b[0m \u001b[32m━━━━━━━━━━━━━━━━━━━━\u001b[0m\u001b[37m\u001b[0m \u001b[1m3s\u001b[0m 42ms/step - accuracy: 0.1445 - loss: 2.7539\n",
            "Epoch 4/50\n",
            "\u001b[1m60/60\u001b[0m \u001b[32m━━━━━━━━━━━━━━━━━━━━\u001b[0m\u001b[37m\u001b[0m \u001b[1m3s\u001b[0m 56ms/step - accuracy: 0.2820 - loss: 2.1869\n",
            "Epoch 5/50\n",
            "\u001b[1m60/60\u001b[0m \u001b[32m━━━━━━━━━━━━━━━━━━━━\u001b[0m\u001b[37m\u001b[0m \u001b[1m4s\u001b[0m 58ms/step - accuracy: 0.4332 - loss: 1.7270\n",
            "Epoch 6/50\n",
            "\u001b[1m60/60\u001b[0m \u001b[32m━━━━━━━━━━━━━━━━━━━━\u001b[0m\u001b[37m\u001b[0m \u001b[1m4s\u001b[0m 41ms/step - accuracy: 0.4893 - loss: 1.4932\n",
            "Epoch 7/50\n",
            "\u001b[1m60/60\u001b[0m \u001b[32m━━━━━━━━━━━━━━━━━━━━\u001b[0m\u001b[37m\u001b[0m \u001b[1m3s\u001b[0m 41ms/step - accuracy: 0.5613 - loss: 1.2367\n",
            "Epoch 8/50\n",
            "\u001b[1m60/60\u001b[0m \u001b[32m━━━━━━━━━━━━━━━━━━━━\u001b[0m\u001b[37m\u001b[0m \u001b[1m3s\u001b[0m 44ms/step - accuracy: 0.6633 - loss: 0.9722\n",
            "Epoch 9/50\n",
            "\u001b[1m60/60\u001b[0m \u001b[32m━━━━━━━━━━━━━━━━━━━━\u001b[0m\u001b[37m\u001b[0m \u001b[1m4s\u001b[0m 64ms/step - accuracy: 0.7663 - loss: 0.7575\n",
            "Epoch 10/50\n",
            "\u001b[1m60/60\u001b[0m \u001b[32m━━━━━━━━━━━━━━━━━━━━\u001b[0m\u001b[37m\u001b[0m \u001b[1m2s\u001b[0m 40ms/step - accuracy: 0.8100 - loss: 0.6169\n",
            "Epoch 11/50\n",
            "\u001b[1m60/60\u001b[0m \u001b[32m━━━━━━━━━━━━━━━━━━━━\u001b[0m\u001b[37m\u001b[0m \u001b[1m2s\u001b[0m 41ms/step - accuracy: 0.8507 - loss: 0.5071\n",
            "Epoch 12/50\n",
            "\u001b[1m60/60\u001b[0m \u001b[32m━━━━━━━━━━━━━━━━━━━━\u001b[0m\u001b[37m\u001b[0m \u001b[1m3s\u001b[0m 41ms/step - accuracy: 0.8816 - loss: 0.3979\n",
            "Epoch 13/50\n",
            "\u001b[1m60/60\u001b[0m \u001b[32m━━━━━━━━━━━━━━━━━━━━\u001b[0m\u001b[37m\u001b[0m \u001b[1m3s\u001b[0m 49ms/step - accuracy: 0.9044 - loss: 0.3334\n",
            "Epoch 14/50\n",
            "\u001b[1m60/60\u001b[0m \u001b[32m━━━━━━━━━━━━━━━━━━━━\u001b[0m\u001b[37m\u001b[0m \u001b[1m5s\u001b[0m 41ms/step - accuracy: 0.8998 - loss: 0.3151\n",
            "Epoch 15/50\n",
            "\u001b[1m60/60\u001b[0m \u001b[32m━━━━━━━━━━━━━━━━━━━━\u001b[0m\u001b[37m\u001b[0m \u001b[1m2s\u001b[0m 41ms/step - accuracy: 0.9052 - loss: 0.3183\n",
            "Epoch 16/50\n",
            "\u001b[1m60/60\u001b[0m \u001b[32m━━━━━━━━━━━━━━━━━━━━\u001b[0m\u001b[37m\u001b[0m \u001b[1m3s\u001b[0m 42ms/step - accuracy: 0.9355 - loss: 0.2165\n",
            "Epoch 17/50\n",
            "\u001b[1m60/60\u001b[0m \u001b[32m━━━━━━━━━━━━━━━━━━━━\u001b[0m\u001b[37m\u001b[0m \u001b[1m3s\u001b[0m 51ms/step - accuracy: 0.9673 - loss: 0.1331\n",
            "Epoch 18/50\n",
            "\u001b[1m60/60\u001b[0m \u001b[32m━━━━━━━━━━━━━━━━━━━━\u001b[0m\u001b[37m\u001b[0m \u001b[1m4s\u001b[0m 41ms/step - accuracy: 0.9750 - loss: 0.1028\n",
            "Epoch 19/50\n",
            "\u001b[1m60/60\u001b[0m \u001b[32m━━━━━━━━━━━━━━━━━━━━\u001b[0m\u001b[37m\u001b[0m \u001b[1m2s\u001b[0m 40ms/step - accuracy: 0.9748 - loss: 0.0989\n",
            "Epoch 20/50\n",
            "\u001b[1m60/60\u001b[0m \u001b[32m━━━━━━━━━━━━━━━━━━━━\u001b[0m\u001b[37m\u001b[0m \u001b[1m2s\u001b[0m 41ms/step - accuracy: 0.9523 - loss: 0.1553\n",
            "Epoch 21/50\n",
            "\u001b[1m60/60\u001b[0m \u001b[32m━━━━━━━━━━━━━━━━━━━━\u001b[0m\u001b[37m\u001b[0m \u001b[1m3s\u001b[0m 51ms/step - accuracy: 0.9651 - loss: 0.1391\n",
            "Epoch 22/50\n",
            "\u001b[1m60/60\u001b[0m \u001b[32m━━━━━━━━━━━━━━━━━━━━\u001b[0m\u001b[37m\u001b[0m \u001b[1m4s\u001b[0m 64ms/step - accuracy: 0.9715 - loss: 0.1092\n",
            "Epoch 23/50\n",
            "\u001b[1m60/60\u001b[0m \u001b[32m━━━━━━━━━━━━━━━━━━━━\u001b[0m\u001b[37m\u001b[0m \u001b[1m2s\u001b[0m 41ms/step - accuracy: 0.9771 - loss: 0.0778\n",
            "Epoch 24/50\n",
            "\u001b[1m60/60\u001b[0m \u001b[32m━━━━━━━━━━━━━━━━━━━━\u001b[0m\u001b[37m\u001b[0m \u001b[1m3s\u001b[0m 41ms/step - accuracy: 0.9723 - loss: 0.0901\n",
            "Epoch 25/50\n",
            "\u001b[1m60/60\u001b[0m \u001b[32m━━━━━━━━━━━━━━━━━━━━\u001b[0m\u001b[37m\u001b[0m \u001b[1m2s\u001b[0m 41ms/step - accuracy: 0.9781 - loss: 0.0702\n",
            "Epoch 26/50\n",
            "\u001b[1m60/60\u001b[0m \u001b[32m━━━━━━━━━━━━━━━━━━━━\u001b[0m\u001b[37m\u001b[0m \u001b[1m3s\u001b[0m 52ms/step - accuracy: 0.9727 - loss: 0.0967\n",
            "Epoch 27/50\n",
            "\u001b[1m60/60\u001b[0m \u001b[32m━━━━━━━━━━━━━━━━━━━━\u001b[0m\u001b[37m\u001b[0m \u001b[1m4s\u001b[0m 40ms/step - accuracy: 0.9799 - loss: 0.0659\n",
            "Epoch 28/50\n",
            "\u001b[1m60/60\u001b[0m \u001b[32m━━━━━━━━━━━━━━━━━━━━\u001b[0m\u001b[37m\u001b[0m \u001b[1m3s\u001b[0m 41ms/step - accuracy: 0.9827 - loss: 0.0728\n",
            "Epoch 29/50\n",
            "\u001b[1m60/60\u001b[0m \u001b[32m━━━━━━━━━━━━━━━━━━━━\u001b[0m\u001b[37m\u001b[0m \u001b[1m3s\u001b[0m 41ms/step - accuracy: 0.9874 - loss: 0.0505\n",
            "Epoch 30/50\n",
            "\u001b[1m60/60\u001b[0m \u001b[32m━━━━━━━━━━━━━━━━━━━━\u001b[0m\u001b[37m\u001b[0m \u001b[1m3s\u001b[0m 53ms/step - accuracy: 0.9868 - loss: 0.0474\n",
            "Epoch 31/50\n",
            "\u001b[1m60/60\u001b[0m \u001b[32m━━━━━━━━━━━━━━━━━━━━\u001b[0m\u001b[37m\u001b[0m \u001b[1m4s\u001b[0m 42ms/step - accuracy: 0.9836 - loss: 0.0545\n",
            "Epoch 32/50\n",
            "\u001b[1m60/60\u001b[0m \u001b[32m━━━━━━━━━━━━━━━━━━━━\u001b[0m\u001b[37m\u001b[0m \u001b[1m3s\u001b[0m 42ms/step - accuracy: 0.9823 - loss: 0.0602\n",
            "Epoch 33/50\n",
            "\u001b[1m60/60\u001b[0m \u001b[32m━━━━━━━━━━━━━━━━━━━━\u001b[0m\u001b[37m\u001b[0m \u001b[1m2s\u001b[0m 40ms/step - accuracy: 0.9856 - loss: 0.0566\n",
            "Epoch 34/50\n",
            "\u001b[1m60/60\u001b[0m \u001b[32m━━━━━━━━━━━━━━━━━━━━\u001b[0m\u001b[37m\u001b[0m \u001b[1m3s\u001b[0m 53ms/step - accuracy: 0.9861 - loss: 0.0582\n",
            "Epoch 35/50\n",
            "\u001b[1m60/60\u001b[0m \u001b[32m━━━━━━━━━━━━━━━━━━━━\u001b[0m\u001b[37m\u001b[0m \u001b[1m4s\u001b[0m 40ms/step - accuracy: 0.9781 - loss: 0.0743\n",
            "Epoch 36/50\n",
            "\u001b[1m60/60\u001b[0m \u001b[32m━━━━━━━━━━━━━━━━━━━━\u001b[0m\u001b[37m\u001b[0m \u001b[1m3s\u001b[0m 42ms/step - accuracy: 0.9698 - loss: 0.0992\n",
            "Epoch 37/50\n",
            "\u001b[1m60/60\u001b[0m \u001b[32m━━━━━━━━━━━━━━━━━━━━\u001b[0m\u001b[37m\u001b[0m \u001b[1m2s\u001b[0m 41ms/step - accuracy: 0.9600 - loss: 0.1435\n",
            "Epoch 38/50\n",
            "\u001b[1m60/60\u001b[0m \u001b[32m━━━━━━━━━━━━━━━━━━━━\u001b[0m\u001b[37m\u001b[0m \u001b[1m3s\u001b[0m 53ms/step - accuracy: 0.9735 - loss: 0.1060\n",
            "Epoch 39/50\n",
            "\u001b[1m60/60\u001b[0m \u001b[32m━━━━━━━━━━━━━━━━━━━━\u001b[0m\u001b[37m\u001b[0m \u001b[1m4s\u001b[0m 62ms/step - accuracy: 0.9724 - loss: 0.0833\n",
            "Epoch 40/50\n",
            "\u001b[1m60/60\u001b[0m \u001b[32m━━━━━━━━━━━━━━━━━━━━\u001b[0m\u001b[37m\u001b[0m \u001b[1m4s\u001b[0m 43ms/step - accuracy: 0.9756 - loss: 0.0735\n",
            "Epoch 41/50\n",
            "\u001b[1m60/60\u001b[0m \u001b[32m━━━━━━━━━━━━━━━━━━━━\u001b[0m\u001b[37m\u001b[0m \u001b[1m2s\u001b[0m 40ms/step - accuracy: 0.9827 - loss: 0.0713\n",
            "Epoch 42/50\n",
            "\u001b[1m60/60\u001b[0m \u001b[32m━━━━━━━━━━━━━━━━━━━━\u001b[0m\u001b[37m\u001b[0m \u001b[1m2s\u001b[0m 41ms/step - accuracy: 0.9894 - loss: 0.0378\n",
            "Epoch 43/50\n",
            "\u001b[1m60/60\u001b[0m \u001b[32m━━━━━━━━━━━━━━━━━━━━\u001b[0m\u001b[37m\u001b[0m \u001b[1m4s\u001b[0m 72ms/step - accuracy: 0.9941 - loss: 0.0191\n",
            "Epoch 44/50\n",
            "\u001b[1m60/60\u001b[0m \u001b[32m━━━━━━━━━━━━━━━━━━━━\u001b[0m\u001b[37m\u001b[0m \u001b[1m3s\u001b[0m 41ms/step - accuracy: 0.9965 - loss: 0.0191\n",
            "Epoch 45/50\n",
            "\u001b[1m60/60\u001b[0m \u001b[32m━━━━━━━━━━━━━━━━━━━━\u001b[0m\u001b[37m\u001b[0m \u001b[1m2s\u001b[0m 40ms/step - accuracy: 0.9940 - loss: 0.0269\n",
            "Epoch 46/50\n",
            "\u001b[1m60/60\u001b[0m \u001b[32m━━━━━━━━━━━━━━━━━━━━\u001b[0m\u001b[37m\u001b[0m \u001b[1m2s\u001b[0m 41ms/step - accuracy: 0.9911 - loss: 0.0336\n",
            "Epoch 47/50\n",
            "\u001b[1m60/60\u001b[0m \u001b[32m━━━━━━━━━━━━━━━━━━━━\u001b[0m\u001b[37m\u001b[0m \u001b[1m3s\u001b[0m 54ms/step - accuracy: 0.9871 - loss: 0.0560\n",
            "Epoch 48/50\n",
            "\u001b[1m60/60\u001b[0m \u001b[32m━━━━━━━━━━━━━━━━━━━━\u001b[0m\u001b[37m\u001b[0m \u001b[1m4s\u001b[0m 61ms/step - accuracy: 0.9885 - loss: 0.0329\n",
            "Epoch 49/50\n",
            "\u001b[1m60/60\u001b[0m \u001b[32m━━━━━━━━━━━━━━━━━━━━\u001b[0m\u001b[37m\u001b[0m \u001b[1m4s\u001b[0m 42ms/step - accuracy: 0.9930 - loss: 0.0200\n",
            "Epoch 50/50\n",
            "\u001b[1m60/60\u001b[0m \u001b[32m━━━━━━━━━━━━━━━━━━━━\u001b[0m\u001b[37m\u001b[0m \u001b[1m3s\u001b[0m 41ms/step - accuracy: 0.9937 - loss: 0.0277\n"
          ]
        }
      ]
    },
    {
      "cell_type": "code",
      "source": [
        "model_1_pred_probs = model_1.predict(X_test)"
      ],
      "metadata": {
        "id": "XILxzHXednjb",
        "colab": {
          "base_uri": "https://localhost:8080/"
        },
        "outputId": "ca860b8a-1603-4fde-b065-9558d7c31797"
      },
      "execution_count": null,
      "outputs": [
        {
          "output_type": "stream",
          "name": "stdout",
          "text": [
            "\u001b[1m15/15\u001b[0m \u001b[32m━━━━━━━━━━━━━━━━━━━━\u001b[0m\u001b[37m\u001b[0m \u001b[1m0s\u001b[0m 13ms/step\n"
          ]
        }
      ]
    },
    {
      "cell_type": "code",
      "source": [
        "import numpy as np\n",
        "model_1_preds = np.argmax(model_1_pred_probs, axis=1)"
      ],
      "metadata": {
        "id": "USrMUxpeOHgQ"
      },
      "execution_count": null,
      "outputs": []
    },
    {
      "cell_type": "code",
      "source": [
        "model_1_preds"
      ],
      "metadata": {
        "id": "d1Y90QcXPcZg",
        "outputId": "216b1772-6fa8-48af-98d5-14322db8615f",
        "colab": {
          "base_uri": "https://localhost:8080/"
        }
      },
      "execution_count": null,
      "outputs": [
        {
          "output_type": "execute_result",
          "data": {
            "text/plain": [
              "array([44, 40, 39,  2,  0, 26,  8,  2, 30, 12,  2, 15,  6, 45, 18, 28, 26,\n",
              "       21, 23,  1, 45, 24, 45,  0, 21, 30,  3, 40, 37, 27,  0,  6, 44,  9,\n",
              "        9, 27, 29, 10, 30, 34, 46, 37,  3, 33, 36,  6, 44, 27, 16,  6, 25,\n",
              "       19, 30, 21, 18, 16, 12, 47, 41,  0, 28, 22, 19, 34, 38, 23, 17, 46,\n",
              "        5, 25, 47, 18, 42, 19, 29, 24, 29, 43,  3,  7, 24,  3, 21,  3, 33,\n",
              "       39,  6, 10, 15, 20, 43, 11, 29, 32, 35, 40, 40, 37,  8,  0, 17, 47,\n",
              "        6, 16, 18,  4, 43, 39, 19, 47, 23, 38, 32, 38, 13, 46, 19, 28,  9,\n",
              "       11, 42,  1,  9, 38, 18, 42, 12, 32, 34, 26, 40,  6, 16,  7,  6, 47,\n",
              "       44, 29, 21, 13, 25,  4, 31, 47,  9, 43,  1, 12, 27, 10,  1, 40, 45,\n",
              "       24, 38,  3,  3, 21, 26, 37, 21, 22, 11, 20, 11, 44, 35, 29, 33, 26,\n",
              "       46, 29,  0, 29, 10, 42, 24, 11, 40, 13, 39, 24, 46, 40, 19,  6, 21,\n",
              "       40, 36, 32, 37, 46, 35, 25, 21, 36, 24, 26, 44, 22,  3,  6, 22, 21,\n",
              "        0, 45, 31, 10, 46, 24, 28, 46, 25, 47, 24, 43, 28, 44, 21,  3, 22,\n",
              "       46, 13,  8, 47,  2, 11, 25, 22, 35,  7, 28, 22, 20, 20,  8,  0, 46,\n",
              "       43, 18, 10, 21, 29, 22, 45, 30, 34,  4,  0, 30,  7, 30,  7,  8,  2,\n",
              "       35, 37,  7, 11, 20, 36, 17, 20,  9,  0, 12,  3, 15, 10, 39,  7, 11,\n",
              "       22,  2, 11,  0, 10, 39, 18, 17, 46, 26, 40, 29, 36,  7, 30, 36, 25,\n",
              "        8, 30, 33, 28, 17, 28, 26, 11,  5, 21, 41,  6, 22,  2, 42, 36, 37,\n",
              "        5, 34,  4, 41, 26, 28, 24, 47, 40,  3, 19, 10, 47, 35, 32, 22, 43,\n",
              "       24, 40, 41, 42, 10, 18,  2, 29,  5, 43, 16, 12, 36,  5, 47,  4, 15,\n",
              "       39,  3,  8, 29, 31, 16, 13, 46,  9,  8, 26, 11, 29, 23, 12, 42,  3,\n",
              "       12, 45,  5, 19, 20,  3, 26, 27, 34, 23,  5, 36, 10, 37, 27, 47, 39,\n",
              "       26,  4, 11, 37, 27, 29, 11,  8, 35, 41,  1, 31, 25,  1, 40,  5, 14,\n",
              "       13,  6, 41,  7, 29, 21, 15, 20,  9,  4, 39, 27, 15, 26, 24,  3, 21,\n",
              "       47,  2, 25, 23, 38, 15, 10,  4, 42, 14, 29, 13, 41, 30, 38,  7, 27,\n",
              "       22, 44, 30, 26, 46,  1, 42, 40, 26, 28,  0, 21, 43, 24, 45, 45, 20,\n",
              "       40, 43, 33, 40, 26, 41, 41, 33, 37, 37, 33, 20, 10, 17, 24, 14, 30,\n",
              "       39, 42, 18,  8, 29,  5, 47, 34, 11,  2,  7, 31, 17, 20, 23, 42, 21,\n",
              "       29, 26, 45, 39])"
            ]
          },
          "metadata": {},
          "execution_count": 31
        }
      ]
    },
    {
      "cell_type": "code",
      "source": [
        "y_test"
      ],
      "metadata": {
        "id": "_d3l6M7EPZ0T",
        "outputId": "53ba078e-2169-4620-db44-cc77f1720295",
        "colab": {
          "base_uri": "https://localhost:8080/"
        }
      },
      "execution_count": null,
      "outputs": [
        {
          "output_type": "execute_result",
          "data": {
            "text/plain": [
              "array([44,  4, 39,  2, 44, 15,  8,  2, 17, 25,  2, 15,  9, 35, 18, 28, 26,\n",
              "       21, 35,  1, 45,  0, 45,  0,  8, 30, 37,  2, 37, 27, 28,  6, 44,  9,\n",
              "        9, 27, 29, 10, 30, 34, 46, 37,  3, 33, 36,  6, 44, 40, 16,  6, 25,\n",
              "       19, 46, 21, 18, 16, 12, 47,  8,  1, 28, 22, 19, 34, 28, 23, 17, 46,\n",
              "        5, 25, 47, 18, 43, 19, 29, 24, 32, 26,  3, 14, 29,  3, 21,  3, 33,\n",
              "       39,  6, 10, 15, 20, 31, 11, 29, 32, 35, 40, 23, 37,  8,  0, 17, 47,\n",
              "       39, 37, 18,  4, 31, 39, 19, 47, 23, 28, 32, 28, 13, 46, 19, 28,  9,\n",
              "       11, 42,  1,  9, 38, 18, 30, 13, 32, 34, 26, 40,  6, 16,  7,  6, 47,\n",
              "       44, 29,  5, 13, 25,  4, 37, 14,  9, 43,  1, 12, 27, 10,  1, 40, 45,\n",
              "       24, 38,  3,  3, 22, 26, 31, 21, 22, 11, 20, 11, 44, 35, 29, 46, 26,\n",
              "       46, 32, 28, 29, 10, 42, 24, 11, 40, 13,  2, 24, 46, 40, 19, 22,  8,\n",
              "        2, 36, 32, 37, 46, 35, 34, 12, 36, 24, 16, 32, 38, 31,  9, 22,  8,\n",
              "        0, 45, 31, 10, 46, 24, 38, 46, 25, 14, 24, 43, 28, 44, 14,  3, 22,\n",
              "       46, 12,  8, 25,  2, 11, 25, 22, 35,  8, 28, 22,  2, 15, 29,  0, 46,\n",
              "       43, 13, 10,  8, 32, 39, 45, 27, 34, 32,  0, 30,  7, 30,  7,  8, 40,\n",
              "       35, 31,  7, 11, 20, 36, 42, 20,  9,  0, 12,  3, 15, 10, 39,  7, 32,\n",
              "       22,  2, 11,  0, 10, 39, 18, 17, 46, 44, 40, 29, 36,  7, 46, 36, 25,\n",
              "        0, 30, 33, 28, 30, 22, 26, 11,  5, 21, 41,  6, 22,  2, 42, 36, 44,\n",
              "        5, 34,  4, 41, 12, 28, 24,  1, 40, 10, 19, 10, 47, 35, 32, 22, 37,\n",
              "       24, 40, 41, 42, 10, 18,  2, 29,  5,  8, 16, 12, 36,  5,  5,  4, 15,\n",
              "       39,  3, 24, 44, 31, 18, 13, 46,  9, 21, 12, 11, 29, 23, 12, 42,  3,\n",
              "       12, 45,  5, 19, 20,  3,  8, 27, 34, 23,  5, 36, 10, 37, 27, 47, 39,\n",
              "       26,  4, 11, 31, 27, 29, 11,  8, 35, 41,  1, 31, 34,  1, 40,  5, 22,\n",
              "       13,  6,  5,  7, 29, 21, 15, 20,  9, 17, 39, 27, 34, 26, 24,  3, 47,\n",
              "        8,  2, 25, 23, 39, 15, 44,  4, 42, 14, 29, 13, 41, 30, 38,  7, 27,\n",
              "       22, 32, 30, 26, 46,  1, 42, 40, 26, 28,  0, 21, 16, 24, 45, 45, 11,\n",
              "       40, 43, 33,  4, 26,  0, 41, 33, 31, 37, 33, 15, 10, 17, 24, 14, 30,\n",
              "       38, 42, 13,  8, 44,  5, 14, 34, 11,  2,  7, 31, 16, 20, 23, 32, 21,\n",
              "       29, 26, 46, 39])"
            ]
          },
          "metadata": {},
          "execution_count": 32
        }
      ]
    },
    {
      "cell_type": "code",
      "source": [
        "model_1_results = calculate_results(y_true=y_test,\n",
        "                                    y_pred=model_1_preds)\n",
        "model_1_results"
      ],
      "metadata": {
        "colab": {
          "base_uri": "https://localhost:8080/"
        },
        "id": "dsjrLFJ5OM6i",
        "outputId": "7195ee18-7959-4329-8c1f-0b73d72b616f"
      },
      "execution_count": null,
      "outputs": [
        {
          "output_type": "execute_result",
          "data": {
            "text/plain": [
              "{'accuracy': 76.45833333333333,\n",
              " 'precision': 0.7939104963323713,\n",
              " 'recall': 0.7645833333333333,\n",
              " 'f1': 0.7609430720231661}"
            ]
          },
          "metadata": {},
          "execution_count": 33
        }
      ]
    },
    {
      "cell_type": "code",
      "source": [
        "mapped_labels = le.inverse_transform(model_1_preds)\n"
      ],
      "metadata": {
        "id": "DMVtnOhaPFL_"
      },
      "execution_count": null,
      "outputs": []
    },
    {
      "cell_type": "code",
      "source": [
        "mapped_labels"
      ],
      "metadata": {
        "colab": {
          "base_uri": "https://localhost:8080/"
        },
        "id": "IpAiNkdwDtuE",
        "outputId": "df473a31-0115-4df1-b170-2750a0ebd808"
      },
      "execution_count": null,
      "outputs": [
        {
          "output_type": "execute_result",
          "data": {
            "text/plain": [
              "array(['Where is the nearest bank branch or ATM?',\n",
              "       'What is the maximum amount I can withdraw from an ATM?',\n",
              "       'What is the interest rate on loans?',\n",
              "       'Can I withdraw money from my savings account before maturity?',\n",
              "       'Can I deposit checks using an ATM?',\n",
              "       'How do I update my personal details?',\n",
              "       'How can I protect myself from online banking fraud?',\n",
              "       'Can I withdraw money from my savings account before maturity?',\n",
              "       'I made a transfer to the wrong account. Can I reverse it?',\n",
              "       'How do I apply for a new service or product?',\n",
              "       'Can I withdraw money from my savings account before maturity?',\n",
              "       'How do I close my account?',\n",
              "       'How can I check the status of a scheduled payment?',\n",
              "       'Why did my payment fail?',\n",
              "       'How do I download the mobile banking app?',\n",
              "       'How is interest calculated on savings accounts?',\n",
              "       'How do I update my personal details?',\n",
              "       'How do I register for online banking?',\n",
              "       'How do I request a credit limit increase?',\n",
              "       'Can I get a refund for an overdraft fee?',\n",
              "       'Why did my payment fail?',\n",
              "       'How do I reset my online banking password?',\n",
              "       'Why did my payment fail?', 'Can I deposit checks using an ATM?',\n",
              "       'How do I register for online banking?',\n",
              "       'I made a transfer to the wrong account. Can I reverse it?',\n",
              "       'How can I block or unblock my card?',\n",
              "       'What is the maximum amount I can withdraw from an ATM?',\n",
              "       'What happens after I report a fraudulent transaction?',\n",
              "       'How do I withdraw cash without a card from an ATM?',\n",
              "       'Can I deposit checks using an ATM?',\n",
              "       'How can I check the status of a scheduled payment?',\n",
              "       'Where is the nearest bank branch or ATM?',\n",
              "       'How can I stop or modify a recurring payment?',\n",
              "       'How can I stop or modify a recurring payment?',\n",
              "       'How do I withdraw cash without a card from an ATM?',\n",
              "       'I forgot my username/password. How can I recover it?',\n",
              "       'How can I track my transaction history?',\n",
              "       'I made a transfer to the wrong account. Can I reverse it?',\n",
              "       'What are the eligibility criteria for a mortgage?',\n",
              "       'Why hasn’t my transfer gone through?',\n",
              "       'What happens after I report a fraudulent transaction?',\n",
              "       'How can I block or unblock my card?',\n",
              "       'What are the daily transfer limits?',\n",
              "       'What documents are required for account verification?',\n",
              "       'How can I check the status of a scheduled payment?',\n",
              "       'Where is the nearest bank branch or ATM?',\n",
              "       'How do I withdraw cash without a card from an ATM?',\n",
              "       'How do I contact customer service?',\n",
              "       'How can I check the status of a scheduled payment?',\n",
              "       'How do I set up auto-payments for my bills?',\n",
              "       'How do I open a fixed deposit account?',\n",
              "       'I made a transfer to the wrong account. Can I reverse it?',\n",
              "       'How do I register for online banking?',\n",
              "       'How do I download the mobile banking app?',\n",
              "       'How do I contact customer service?',\n",
              "       'How do I apply for a new service or product?',\n",
              "       'Why was I charged a fee on my account?',\n",
              "       'What should I do if my account is locked?',\n",
              "       'Can I deposit checks using an ATM?',\n",
              "       'How is interest calculated on savings accounts?',\n",
              "       'How do I repay my loan early?',\n",
              "       'How do I open a fixed deposit account?',\n",
              "       'What are the eligibility criteria for a mortgage?',\n",
              "       'What is the current interest rate on savings accounts?',\n",
              "       'How do I request a credit limit increase?',\n",
              "       'How do I dispute a transaction?',\n",
              "       'Why hasn’t my transfer gone through?',\n",
              "       'How can I check my account balance online?',\n",
              "       'How do I set up auto-payments for my bills?',\n",
              "       'Why was I charged a fee on my account?',\n",
              "       'How do I download the mobile banking app?',\n",
              "       'What should I do if my card is lost/stolen?',\n",
              "       'How do I open a fixed deposit account?',\n",
              "       'I forgot my username/password. How can I recover it?',\n",
              "       'How do I reset my online banking password?',\n",
              "       'I forgot my username/password. How can I recover it?',\n",
              "       'Where can I find my account number/IBAN/SWIFT code?',\n",
              "       'How can I block or unblock my card?',\n",
              "       'How can I enable two-factor authentication (2FA)?',\n",
              "       'How do I reset my online banking password?',\n",
              "       'How can I block or unblock my card?',\n",
              "       'How do I register for online banking?',\n",
              "       'How can I block or unblock my card?',\n",
              "       'What are the daily transfer limits?',\n",
              "       'What is the interest rate on loans?',\n",
              "       'How can I check the status of a scheduled payment?',\n",
              "       'How can I track my transaction history?',\n",
              "       'How do I close my account?', 'How do I open a new bank account?',\n",
              "       'Where can I find my account number/IBAN/SWIFT code?',\n",
              "       'How do I activate my new credit/debit card?',\n",
              "       'I forgot my username/password. How can I recover it?',\n",
              "       'What are the bank’s working hours?',\n",
              "       'What are the fees for international transfers?',\n",
              "       'What is the maximum amount I can withdraw from an ATM?',\n",
              "       'What is the maximum amount I can withdraw from an ATM?',\n",
              "       'What happens after I report a fraudulent transaction?',\n",
              "       'How can I protect myself from online banking fraud?',\n",
              "       'Can I deposit checks using an ATM?',\n",
              "       'How do I dispute a transaction?',\n",
              "       'Why was I charged a fee on my account?',\n",
              "       'How can I check the status of a scheduled payment?',\n",
              "       'How do I contact customer service?',\n",
              "       'How do I download the mobile banking app?',\n",
              "       'How can I change my transaction limits in the mobile app?',\n",
              "       'Where can I find my account number/IBAN/SWIFT code?',\n",
              "       'What is the interest rate on loans?',\n",
              "       'How do I open a fixed deposit account?',\n",
              "       'Why was I charged a fee on my account?',\n",
              "       'How do I request a credit limit increase?',\n",
              "       'What is the current interest rate on savings accounts?',\n",
              "       'What are the bank’s working hours?',\n",
              "       'What is the current interest rate on savings accounts?',\n",
              "       'How do I apply for a personal loan?',\n",
              "       'Why hasn’t my transfer gone through?',\n",
              "       'How do I open a fixed deposit account?',\n",
              "       'How is interest calculated on savings accounts?',\n",
              "       'How can I stop or modify a recurring payment?',\n",
              "       'How do I activate my new credit/debit card?',\n",
              "       'What should I do if my card is lost/stolen?',\n",
              "       'Can I get a refund for an overdraft fee?',\n",
              "       'How can I stop or modify a recurring payment?',\n",
              "       'What is the current interest rate on savings accounts?',\n",
              "       'How do I download the mobile banking app?',\n",
              "       'What should I do if my card is lost/stolen?',\n",
              "       'How do I apply for a new service or product?',\n",
              "       'What are the bank’s working hours?',\n",
              "       'What are the eligibility criteria for a mortgage?',\n",
              "       'How do I update my personal details?',\n",
              "       'What is the maximum amount I can withdraw from an ATM?',\n",
              "       'How can I check the status of a scheduled payment?',\n",
              "       'How do I contact customer service?',\n",
              "       'How can I enable two-factor authentication (2FA)?',\n",
              "       'How can I check the status of a scheduled payment?',\n",
              "       'Why was I charged a fee on my account?',\n",
              "       'Where is the nearest bank branch or ATM?',\n",
              "       'I forgot my username/password. How can I recover it?',\n",
              "       'How do I register for online banking?',\n",
              "       'How do I apply for a personal loan?',\n",
              "       'How do I set up auto-payments for my bills?',\n",
              "       'How can I change my transaction limits in the mobile app?',\n",
              "       'I suspect fraudulent activity on my account. What should I do?',\n",
              "       'Why was I charged a fee on my account?',\n",
              "       'How can I stop or modify a recurring payment?',\n",
              "       'Where can I find my account number/IBAN/SWIFT code?',\n",
              "       'Can I get a refund for an overdraft fee?',\n",
              "       'How do I apply for a new service or product?',\n",
              "       'How do I withdraw cash without a card from an ATM?',\n",
              "       'How can I track my transaction history?',\n",
              "       'Can I get a refund for an overdraft fee?',\n",
              "       'What is the maximum amount I can withdraw from an ATM?',\n",
              "       'Why did my payment fail?',\n",
              "       'How do I reset my online banking password?',\n",
              "       'What is the current interest rate on savings accounts?',\n",
              "       'How can I block or unblock my card?',\n",
              "       'How can I block or unblock my card?',\n",
              "       'How do I register for online banking?',\n",
              "       'How do I update my personal details?',\n",
              "       'What happens after I report a fraudulent transaction?',\n",
              "       'How do I register for online banking?',\n",
              "       'How do I repay my loan early?',\n",
              "       'How do I activate my new credit/debit card?',\n",
              "       'How do I open a new bank account?',\n",
              "       'How do I activate my new credit/debit card?',\n",
              "       'Where is the nearest bank branch or ATM?',\n",
              "       'What are the fees for international transfers?',\n",
              "       'I forgot my username/password. How can I recover it?',\n",
              "       'What are the daily transfer limits?',\n",
              "       'How do I update my personal details?',\n",
              "       'Why hasn’t my transfer gone through?',\n",
              "       'I forgot my username/password. How can I recover it?',\n",
              "       'Can I deposit checks using an ATM?',\n",
              "       'I forgot my username/password. How can I recover it?',\n",
              "       'How can I track my transaction history?',\n",
              "       'What should I do if my card is lost/stolen?',\n",
              "       'How do I reset my online banking password?',\n",
              "       'How do I activate my new credit/debit card?',\n",
              "       'What is the maximum amount I can withdraw from an ATM?',\n",
              "       'How do I apply for a personal loan?',\n",
              "       'What is the interest rate on loans?',\n",
              "       'How do I reset my online banking password?',\n",
              "       'Why hasn’t my transfer gone through?',\n",
              "       'What is the maximum amount I can withdraw from an ATM?',\n",
              "       'How do I open a fixed deposit account?',\n",
              "       'How can I check the status of a scheduled payment?',\n",
              "       'How do I register for online banking?',\n",
              "       'What is the maximum amount I can withdraw from an ATM?',\n",
              "       'What documents are required for account verification?',\n",
              "       'What are the bank’s working hours?',\n",
              "       'What happens after I report a fraudulent transaction?',\n",
              "       'Why hasn’t my transfer gone through?',\n",
              "       'What are the fees for international transfers?',\n",
              "       'How do I set up auto-payments for my bills?',\n",
              "       'How do I register for online banking?',\n",
              "       'What documents are required for account verification?',\n",
              "       'How do I reset my online banking password?',\n",
              "       'How do I update my personal details?',\n",
              "       'Where is the nearest bank branch or ATM?',\n",
              "       'How do I repay my loan early?',\n",
              "       'How can I block or unblock my card?',\n",
              "       'How can I check the status of a scheduled payment?',\n",
              "       'How do I repay my loan early?',\n",
              "       'How do I register for online banking?',\n",
              "       'Can I deposit checks using an ATM?', 'Why did my payment fail?',\n",
              "       'I suspect fraudulent activity on my account. What should I do?',\n",
              "       'How can I track my transaction history?',\n",
              "       'Why hasn’t my transfer gone through?',\n",
              "       'How do I reset my online banking password?',\n",
              "       'How is interest calculated on savings accounts?',\n",
              "       'Why hasn’t my transfer gone through?',\n",
              "       'How do I set up auto-payments for my bills?',\n",
              "       'Why was I charged a fee on my account?',\n",
              "       'How do I reset my online banking password?',\n",
              "       'Where can I find my account number/IBAN/SWIFT code?',\n",
              "       'How is interest calculated on savings accounts?',\n",
              "       'Where is the nearest bank branch or ATM?',\n",
              "       'How do I register for online banking?',\n",
              "       'How can I block or unblock my card?',\n",
              "       'How do I repay my loan early?',\n",
              "       'Why hasn’t my transfer gone through?',\n",
              "       'How do I apply for a personal loan?',\n",
              "       'How can I protect myself from online banking fraud?',\n",
              "       'Why was I charged a fee on my account?',\n",
              "       'Can I withdraw money from my savings account before maturity?',\n",
              "       'How do I activate my new credit/debit card?',\n",
              "       'How do I set up auto-payments for my bills?',\n",
              "       'How do I repay my loan early?',\n",
              "       'What are the fees for international transfers?',\n",
              "       'How can I enable two-factor authentication (2FA)?',\n",
              "       'How is interest calculated on savings accounts?',\n",
              "       'How do I repay my loan early?',\n",
              "       'How do I open a new bank account?',\n",
              "       'How do I open a new bank account?',\n",
              "       'How can I protect myself from online banking fraud?',\n",
              "       'Can I deposit checks using an ATM?',\n",
              "       'Why hasn’t my transfer gone through?',\n",
              "       'Where can I find my account number/IBAN/SWIFT code?',\n",
              "       'How do I download the mobile banking app?',\n",
              "       'How can I track my transaction history?',\n",
              "       'How do I register for online banking?',\n",
              "       'I forgot my username/password. How can I recover it?',\n",
              "       'How do I repay my loan early?', 'Why did my payment fail?',\n",
              "       'I made a transfer to the wrong account. Can I reverse it?',\n",
              "       'What are the eligibility criteria for a mortgage?',\n",
              "       'How can I change my transaction limits in the mobile app?',\n",
              "       'Can I deposit checks using an ATM?',\n",
              "       'I made a transfer to the wrong account. Can I reverse it?',\n",
              "       'How can I enable two-factor authentication (2FA)?',\n",
              "       'I made a transfer to the wrong account. Can I reverse it?',\n",
              "       'How can I enable two-factor authentication (2FA)?',\n",
              "       'How can I protect myself from online banking fraud?',\n",
              "       'Can I withdraw money from my savings account before maturity?',\n",
              "       'What are the fees for international transfers?',\n",
              "       'What happens after I report a fraudulent transaction?',\n",
              "       'How can I enable two-factor authentication (2FA)?',\n",
              "       'How do I activate my new credit/debit card?',\n",
              "       'How do I open a new bank account?',\n",
              "       'What documents are required for account verification?',\n",
              "       'How do I dispute a transaction?',\n",
              "       'How do I open a new bank account?',\n",
              "       'How can I stop or modify a recurring payment?',\n",
              "       'Can I deposit checks using an ATM?',\n",
              "       'How do I apply for a new service or product?',\n",
              "       'How can I block or unblock my card?',\n",
              "       'How do I close my account?',\n",
              "       'How can I track my transaction history?',\n",
              "       'What is the interest rate on loans?',\n",
              "       'How can I enable two-factor authentication (2FA)?',\n",
              "       'How do I activate my new credit/debit card?',\n",
              "       'How do I repay my loan early?',\n",
              "       'Can I withdraw money from my savings account before maturity?',\n",
              "       'How do I activate my new credit/debit card?',\n",
              "       'Can I deposit checks using an ATM?',\n",
              "       'How can I track my transaction history?',\n",
              "       'What is the interest rate on loans?',\n",
              "       'How do I download the mobile banking app?',\n",
              "       'How do I dispute a transaction?',\n",
              "       'Why hasn’t my transfer gone through?',\n",
              "       'How do I update my personal details?',\n",
              "       'What is the maximum amount I can withdraw from an ATM?',\n",
              "       'I forgot my username/password. How can I recover it?',\n",
              "       'What documents are required for account verification?',\n",
              "       'How can I enable two-factor authentication (2FA)?',\n",
              "       'I made a transfer to the wrong account. Can I reverse it?',\n",
              "       'What documents are required for account verification?',\n",
              "       'How do I set up auto-payments for my bills?',\n",
              "       'How can I protect myself from online banking fraud?',\n",
              "       'I made a transfer to the wrong account. Can I reverse it?',\n",
              "       'What are the daily transfer limits?',\n",
              "       'How is interest calculated on savings accounts?',\n",
              "       'How do I dispute a transaction?',\n",
              "       'How is interest calculated on savings accounts?',\n",
              "       'How do I update my personal details?',\n",
              "       'How do I activate my new credit/debit card?',\n",
              "       'How can I check my account balance online?',\n",
              "       'How do I register for online banking?',\n",
              "       'What should I do if my account is locked?',\n",
              "       'How can I check the status of a scheduled payment?',\n",
              "       'How do I repay my loan early?',\n",
              "       'Can I withdraw money from my savings account before maturity?',\n",
              "       'What should I do if my card is lost/stolen?',\n",
              "       'What documents are required for account verification?',\n",
              "       'What happens after I report a fraudulent transaction?',\n",
              "       'How can I check my account balance online?',\n",
              "       'What are the eligibility criteria for a mortgage?',\n",
              "       'How can I change my transaction limits in the mobile app?',\n",
              "       'What should I do if my account is locked?',\n",
              "       'How do I update my personal details?',\n",
              "       'How is interest calculated on savings accounts?',\n",
              "       'How do I reset my online banking password?',\n",
              "       'Why was I charged a fee on my account?',\n",
              "       'What is the maximum amount I can withdraw from an ATM?',\n",
              "       'How can I block or unblock my card?',\n",
              "       'How do I open a fixed deposit account?',\n",
              "       'How can I track my transaction history?',\n",
              "       'Why was I charged a fee on my account?',\n",
              "       'What are the fees for international transfers?',\n",
              "       'What are the bank’s working hours?',\n",
              "       'How do I repay my loan early?',\n",
              "       'Where can I find my account number/IBAN/SWIFT code?',\n",
              "       'How do I reset my online banking password?',\n",
              "       'What is the maximum amount I can withdraw from an ATM?',\n",
              "       'What should I do if my account is locked?',\n",
              "       'What should I do if my card is lost/stolen?',\n",
              "       'How can I track my transaction history?',\n",
              "       'How do I download the mobile banking app?',\n",
              "       'Can I withdraw money from my savings account before maturity?',\n",
              "       'I forgot my username/password. How can I recover it?',\n",
              "       'How can I check my account balance online?',\n",
              "       'Where can I find my account number/IBAN/SWIFT code?',\n",
              "       'How do I contact customer service?',\n",
              "       'How do I apply for a new service or product?',\n",
              "       'What documents are required for account verification?',\n",
              "       'How can I check my account balance online?',\n",
              "       'Why was I charged a fee on my account?',\n",
              "       'How can I change my transaction limits in the mobile app?',\n",
              "       'How do I close my account?',\n",
              "       'What is the interest rate on loans?',\n",
              "       'How can I block or unblock my card?',\n",
              "       'How can I protect myself from online banking fraud?',\n",
              "       'I forgot my username/password. How can I recover it?',\n",
              "       'I suspect fraudulent activity on my account. What should I do?',\n",
              "       'How do I contact customer service?',\n",
              "       'How do I apply for a personal loan?',\n",
              "       'Why hasn’t my transfer gone through?',\n",
              "       'How can I stop or modify a recurring payment?',\n",
              "       'How can I protect myself from online banking fraud?',\n",
              "       'How do I update my personal details?',\n",
              "       'How do I activate my new credit/debit card?',\n",
              "       'I forgot my username/password. How can I recover it?',\n",
              "       'How do I request a credit limit increase?',\n",
              "       'How do I apply for a new service or product?',\n",
              "       'What should I do if my card is lost/stolen?',\n",
              "       'How can I block or unblock my card?',\n",
              "       'How do I apply for a new service or product?',\n",
              "       'Why did my payment fail?',\n",
              "       'How can I check my account balance online?',\n",
              "       'How do I open a fixed deposit account?',\n",
              "       'How do I open a new bank account?',\n",
              "       'How can I block or unblock my card?',\n",
              "       'How do I update my personal details?',\n",
              "       'How do I withdraw cash without a card from an ATM?',\n",
              "       'What are the eligibility criteria for a mortgage?',\n",
              "       'How do I request a credit limit increase?',\n",
              "       'How can I check my account balance online?',\n",
              "       'What documents are required for account verification?',\n",
              "       'How can I track my transaction history?',\n",
              "       'What happens after I report a fraudulent transaction?',\n",
              "       'How do I withdraw cash without a card from an ATM?',\n",
              "       'Why was I charged a fee on my account?',\n",
              "       'What is the interest rate on loans?',\n",
              "       'How do I update my personal details?',\n",
              "       'How can I change my transaction limits in the mobile app?',\n",
              "       'How do I activate my new credit/debit card?',\n",
              "       'What happens after I report a fraudulent transaction?',\n",
              "       'How do I withdraw cash without a card from an ATM?',\n",
              "       'I forgot my username/password. How can I recover it?',\n",
              "       'How do I activate my new credit/debit card?',\n",
              "       'How can I protect myself from online banking fraud?',\n",
              "       'What are the fees for international transfers?',\n",
              "       'What should I do if my account is locked?',\n",
              "       'Can I get a refund for an overdraft fee?',\n",
              "       'I suspect fraudulent activity on my account. What should I do?',\n",
              "       'How do I set up auto-payments for my bills?',\n",
              "       'Can I get a refund for an overdraft fee?',\n",
              "       'What is the maximum amount I can withdraw from an ATM?',\n",
              "       'How can I check my account balance online?',\n",
              "       'How do I avoid monthly maintenance fees?',\n",
              "       'How do I apply for a personal loan?',\n",
              "       'How can I check the status of a scheduled payment?',\n",
              "       'What should I do if my account is locked?',\n",
              "       'How can I enable two-factor authentication (2FA)?',\n",
              "       'I forgot my username/password. How can I recover it?',\n",
              "       'How do I register for online banking?',\n",
              "       'How do I close my account?', 'How do I open a new bank account?',\n",
              "       'How can I stop or modify a recurring payment?',\n",
              "       'How can I change my transaction limits in the mobile app?',\n",
              "       'What is the interest rate on loans?',\n",
              "       'How do I withdraw cash without a card from an ATM?',\n",
              "       'How do I close my account?',\n",
              "       'How do I update my personal details?',\n",
              "       'How do I reset my online banking password?',\n",
              "       'How can I block or unblock my card?',\n",
              "       'How do I register for online banking?',\n",
              "       'Why was I charged a fee on my account?',\n",
              "       'Can I withdraw money from my savings account before maturity?',\n",
              "       'How do I set up auto-payments for my bills?',\n",
              "       'How do I request a credit limit increase?',\n",
              "       'What is the current interest rate on savings accounts?',\n",
              "       'How do I close my account?',\n",
              "       'How can I track my transaction history?',\n",
              "       'How can I change my transaction limits in the mobile app?',\n",
              "       'What should I do if my card is lost/stolen?',\n",
              "       'How do I avoid monthly maintenance fees?',\n",
              "       'I forgot my username/password. How can I recover it?',\n",
              "       'How do I apply for a personal loan?',\n",
              "       'What should I do if my account is locked?',\n",
              "       'I made a transfer to the wrong account. Can I reverse it?',\n",
              "       'What is the current interest rate on savings accounts?',\n",
              "       'How can I enable two-factor authentication (2FA)?',\n",
              "       'How do I withdraw cash without a card from an ATM?',\n",
              "       'How do I repay my loan early?',\n",
              "       'Where is the nearest bank branch or ATM?',\n",
              "       'I made a transfer to the wrong account. Can I reverse it?',\n",
              "       'How do I update my personal details?',\n",
              "       'Why hasn’t my transfer gone through?',\n",
              "       'Can I get a refund for an overdraft fee?',\n",
              "       'What should I do if my card is lost/stolen?',\n",
              "       'What is the maximum amount I can withdraw from an ATM?',\n",
              "       'How do I update my personal details?',\n",
              "       'How is interest calculated on savings accounts?',\n",
              "       'Can I deposit checks using an ATM?',\n",
              "       'How do I register for online banking?',\n",
              "       'Where can I find my account number/IBAN/SWIFT code?',\n",
              "       'How do I reset my online banking password?',\n",
              "       'Why did my payment fail?', 'Why did my payment fail?',\n",
              "       'How do I open a new bank account?',\n",
              "       'What is the maximum amount I can withdraw from an ATM?',\n",
              "       'Where can I find my account number/IBAN/SWIFT code?',\n",
              "       'What are the daily transfer limits?',\n",
              "       'What is the maximum amount I can withdraw from an ATM?',\n",
              "       'How do I update my personal details?',\n",
              "       'What should I do if my account is locked?',\n",
              "       'What should I do if my account is locked?',\n",
              "       'What are the daily transfer limits?',\n",
              "       'What happens after I report a fraudulent transaction?',\n",
              "       'What happens after I report a fraudulent transaction?',\n",
              "       'What are the daily transfer limits?',\n",
              "       'How do I open a new bank account?',\n",
              "       'How can I track my transaction history?',\n",
              "       'How do I dispute a transaction?',\n",
              "       'How do I reset my online banking password?',\n",
              "       'How do I avoid monthly maintenance fees?',\n",
              "       'I made a transfer to the wrong account. Can I reverse it?',\n",
              "       'What is the interest rate on loans?',\n",
              "       'What should I do if my card is lost/stolen?',\n",
              "       'How do I download the mobile banking app?',\n",
              "       'How can I protect myself from online banking fraud?',\n",
              "       'I forgot my username/password. How can I recover it?',\n",
              "       'How can I check my account balance online?',\n",
              "       'Why was I charged a fee on my account?',\n",
              "       'What are the eligibility criteria for a mortgage?',\n",
              "       'How do I activate my new credit/debit card?',\n",
              "       'Can I withdraw money from my savings account before maturity?',\n",
              "       'How can I enable two-factor authentication (2FA)?',\n",
              "       'I suspect fraudulent activity on my account. What should I do?',\n",
              "       'How do I dispute a transaction?',\n",
              "       'How do I open a new bank account?',\n",
              "       'How do I request a credit limit increase?',\n",
              "       'What should I do if my card is lost/stolen?',\n",
              "       'How do I register for online banking?',\n",
              "       'I forgot my username/password. How can I recover it?',\n",
              "       'How do I update my personal details?', 'Why did my payment fail?',\n",
              "       'What is the interest rate on loans?'], dtype=object)"
            ]
          },
          "metadata": {},
          "execution_count": 35
        }
      ]
    },
    {
      "cell_type": "code",
      "source": [
        "model_1.save('model_path.h5')"
      ],
      "metadata": {
        "colab": {
          "base_uri": "https://localhost:8080/"
        },
        "id": "Q_VMosjFDwbK",
        "outputId": "ca9d6e5c-05c9-49dd-bef5-a9be0a13e05f"
      },
      "execution_count": null,
      "outputs": [
        {
          "output_type": "stream",
          "name": "stderr",
          "text": [
            "WARNING:absl:You are saving your model as an HDF5 file via `model.save()` or `keras.saving.save_model(model)`. This file format is considered legacy. We recommend using instead the native Keras format, e.g. `model.save('my_model.keras')` or `keras.saving.save_model(model, 'my_model.keras')`. \n"
          ]
        }
      ]
    },
    {
      "cell_type": "code",
      "source": [
        "import tensorflow as tf\n",
        "import numpy as np\n",
        "\n",
        "custom_message = \"How can I create a new bank account?\"\n",
        "cleaned_text = preprocess_text(custom_message)\n",
        "\n",
        "custom_message_array = np.array([cleaned_text])\n",
        "\n",
        "custom_message_tensor = tf.convert_to_tensor(custom_message_array, dtype=tf.string)\n",
        "\n",
        "prediction_probs = model_1.predict(custom_message_tensor)\n",
        "\n",
        "print(prediction_probs)\n"
      ],
      "metadata": {
        "colab": {
          "base_uri": "https://localhost:8080/"
        },
        "id": "U1b62w-UIJwY",
        "outputId": "ab2fabed-f194-4897-9e73-32bf1fb13157"
      },
      "execution_count": null,
      "outputs": [
        {
          "output_type": "stream",
          "name": "stdout",
          "text": [
            "\u001b[1m1/1\u001b[0m \u001b[32m━━━━━━━━━━━━━━━━━━━━\u001b[0m\u001b[37m\u001b[0m \u001b[1m0s\u001b[0m 22ms/step\n",
            "[[4.4351380e-13 1.6389726e-13 1.6836075e-03 3.8635766e-19 7.8487272e-14\n",
            "  4.2292608e-10 1.1607899e-13 4.6821960e-06 7.5300704e-07 4.5420765e-15\n",
            "  4.1983782e-08 1.1791831e-06 3.7116126e-06 1.1038336e-12 2.6234648e-10\n",
            "  5.1265115e-06 5.8389521e-08 2.3707118e-11 1.9879453e-08 5.5379977e-17\n",
            "  9.9379987e-01 2.7647731e-03 1.2369738e-15 3.7152569e-17 8.6810799e-09\n",
            "  4.0470134e-04 1.2890004e-03 2.1081842e-19 1.6417875e-18 1.4191388e-08\n",
            "  1.4056562e-11 4.2549447e-05 1.1314153e-14 3.3318345e-17 5.8160049e-10\n",
            "  1.5294935e-15 8.4390984e-12 6.3026749e-17 1.8607032e-12 2.0457576e-17\n",
            "  1.0993642e-09 7.7457166e-16 1.2395671e-15 1.2431662e-11 3.4795492e-19\n",
            "  9.7993453e-17 4.0875117e-19 6.6910880e-11]]\n"
          ]
        }
      ]
    },
    {
      "cell_type": "code",
      "source": [
        "model_1_preds = np.argmax(prediction_probs, axis = 1)"
      ],
      "metadata": {
        "id": "rRe85MiUIyo0"
      },
      "execution_count": null,
      "outputs": []
    },
    {
      "cell_type": "code",
      "source": [
        "mapped_labels = le.inverse_transform(model_1_preds)\n"
      ],
      "metadata": {
        "id": "7zo9sSwZJl97"
      },
      "execution_count": null,
      "outputs": []
    },
    {
      "cell_type": "code",
      "source": [
        "mapped_labels"
      ],
      "metadata": {
        "colab": {
          "base_uri": "https://localhost:8080/"
        },
        "id": "PXejgzJxJoI0",
        "outputId": "df62478b-3146-45fb-d724-837b0a3064d4"
      },
      "execution_count": null,
      "outputs": [
        {
          "output_type": "execute_result",
          "data": {
            "text/plain": [
              "array(['How do I open a new bank account?'], dtype=object)"
            ]
          },
          "metadata": {},
          "execution_count": 47
        }
      ]
    },
    {
      "cell_type": "code",
      "source": [
        "import tensorflow as tf\n",
        "\n",
        "model = tf.keras.models.load_model('/content/model_path.h5')\n"
      ],
      "metadata": {
        "colab": {
          "base_uri": "https://localhost:8080/"
        },
        "id": "EpAcfjTJJ1ZT",
        "outputId": "38ab8bfc-c3ad-47ba-a680-bad62ec4cda4"
      },
      "execution_count": null,
      "outputs": [
        {
          "output_type": "stream",
          "name": "stderr",
          "text": [
            "WARNING:absl:Compiled the loaded model, but the compiled metrics have yet to be built. `model.compile_metrics` will be empty until you train or evaluate the model.\n"
          ]
        }
      ]
    },
    {
      "cell_type": "code",
      "source": [
        "!wget https://raw.githubusercontent.com/omsharma-001/CS683_NLP_Project/refs/heads/main/updated_banking_faq_queries.csv"
      ],
      "metadata": {
        "colab": {
          "base_uri": "https://localhost:8080/"
        },
        "id": "55T_I18MTvur",
        "outputId": "4a140f35-46ef-4af9-eeef-0a9e3f8aa729"
      },
      "execution_count": null,
      "outputs": [
        {
          "output_type": "stream",
          "name": "stdout",
          "text": [
            "--2024-11-03 10:25:04--  https://raw.githubusercontent.com/omsharma-001/CS683_NLP_Project/refs/heads/main/updated_banking_faq_queries.csv\n",
            "Resolving raw.githubusercontent.com (raw.githubusercontent.com)... 185.199.110.133, 185.199.109.133, 185.199.111.133, ...\n",
            "Connecting to raw.githubusercontent.com (raw.githubusercontent.com)|185.199.110.133|:443... connected.\n",
            "HTTP request sent, awaiting response... 200 OK\n",
            "Length: 305396 (298K) [text/plain]\n",
            "Saving to: ‘updated_banking_faq_queries.csv.2’\n",
            "\n",
            "updated_banking_faq 100%[===================>] 298.24K  --.-KB/s    in 0.1s    \n",
            "\n",
            "2024-11-03 10:25:04 (2.46 MB/s) - ‘updated_banking_faq_queries.csv.2’ saved [305396/305396]\n",
            "\n"
          ]
        }
      ]
    },
    {
      "cell_type": "code",
      "source": [],
      "metadata": {
        "id": "bKRzsq8Ujccd"
      },
      "execution_count": null,
      "outputs": []
    }
  ]
}