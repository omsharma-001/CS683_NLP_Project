{
 "cells": [
  {
   "cell_type": "code",
   "execution_count": 4,
   "id": "e57fe596-ae31-466a-a676-94f1a8cefa96",
   "metadata": {},
   "outputs": [
    {
     "name": "stderr",
     "output_type": "stream",
     "text": [
      "[nltk_data] Downloading package punkt to /home/gaurav/nltk_data...\n",
      "[nltk_data]   Package punkt is already up-to-date!\n",
      "[nltk_data] Downloading package stopwords to /home/gaurav/nltk_data...\n",
      "[nltk_data]   Package stopwords is already up-to-date!\n",
      "[nltk_data] Downloading package wordnet to /home/gaurav/nltk_data...\n",
      "[nltk_data]   Package wordnet is already up-to-date!\n"
     ]
    },
    {
     "data": {
      "text/plain": [
       "True"
      ]
     },
     "execution_count": 4,
     "metadata": {},
     "output_type": "execute_result"
    }
   ],
   "source": [
    "\n",
    "import nltk\n",
    "\n",
    "nltk.download('punkt')\n",
    "nltk.download('stopwords')\n",
    "nltk.download('wordnet')\n"
   ]
  },
  {
   "cell_type": "code",
   "execution_count": 7,
   "id": "f6cd7d29-dfd3-4555-bef8-3aaadf1456de",
   "metadata": {},
   "outputs": [
    {
     "name": "stdout",
     "output_type": "stream",
     "text": [
      "                                                                precision    recall  f1-score   support\n",
      "\n",
      "                            Can I deposit checks using an ATM?       1.00      1.00      1.00        11\n",
      "                      Can I get a refund for an overdraft fee?       1.00      0.89      0.94         9\n",
      " Can I withdraw money from my savings account before maturity?       0.92      0.85      0.88        13\n",
      "                           How can I block or unblock my card?       1.00      1.00      1.00        12\n",
      "     How can I change my transaction limits in the mobile app?       1.00      0.75      0.86         8\n",
      "                    How can I check my account balance online?       0.92      0.92      0.92        12\n",
      "            How can I check the status of a scheduled payment?       1.00      1.00      1.00         8\n",
      "             How can I enable two-factor authentication (2FA)?       1.00      1.00      1.00         9\n",
      "           How can I protect myself from online banking fraud?       0.93      0.87      0.90        15\n",
      "                 How can I stop or modify a recurring payment?       1.00      1.00      1.00        10\n",
      "                       How can I track my transaction history?       0.87      1.00      0.93        13\n",
      "                   How do I activate my new credit/debit card?       1.00      1.00      1.00        14\n",
      "                  How do I apply for a new service or product?       0.82      0.90      0.86        10\n",
      "                           How do I apply for a personal loan?       0.89      0.89      0.89         9\n",
      "                      How do I avoid monthly maintenance fees?       1.00      0.43      0.60         7\n",
      "                                    How do I close my account?       0.86      0.67      0.75         9\n",
      "                            How do I contact customer service?       0.58      1.00      0.74         7\n",
      "                               How do I dispute a transaction?       0.75      1.00      0.86         6\n",
      "                     How do I download the mobile banking app?       1.00      0.88      0.93         8\n",
      "                        How do I open a fixed deposit account?       1.00      1.00      1.00         8\n",
      "                             How do I open a new bank account?       0.78      1.00      0.88         7\n",
      "                         How do I register for online banking?       1.00      1.00      1.00         9\n",
      "                                 How do I repay my loan early?       1.00      0.79      0.88        14\n",
      "                     How do I request a credit limit increase?       1.00      1.00      1.00         7\n",
      "                    How do I reset my online banking password?       0.92      0.92      0.92        13\n",
      "                   How do I set up auto-payments for my bills?       1.00      1.00      1.00         9\n",
      "                          How do I update my personal details?       0.86      1.00      0.92        12\n",
      "            How do I withdraw cash without a card from an ATM?       0.90      1.00      0.95         9\n",
      "               How is interest calculated on savings accounts?       0.89      0.62      0.73        13\n",
      "          I forgot my username/password. How can I recover it?       1.00      0.93      0.97        15\n",
      "     I made a transfer to the wrong account. Can I reverse it?       0.89      0.80      0.84        10\n",
      "I suspect fraudulent activity on my account. What should I do?       0.58      0.64      0.61        11\n",
      "                            What are the bank’s working hours?       1.00      0.69      0.82        13\n",
      "                           What are the daily transfer limits?       1.00      1.00      1.00         6\n",
      "             What are the eligibility criteria for a mortgage?       1.00      1.00      1.00        10\n",
      "                What are the fees for international transfers?       1.00      0.78      0.88         9\n",
      "         What documents are required for account verification?       0.90      1.00      0.95         9\n",
      "         What happens after I report a fraudulent transaction?       0.75      0.90      0.82        10\n",
      "        What is the current interest rate on savings accounts?       0.44      0.67      0.53         6\n",
      "                           What is the interest rate on loans?       0.92      1.00      0.96        12\n",
      "        What is the maximum amount I can withdraw from an ATM?       0.80      0.92      0.86        13\n",
      "                     What should I do if my account is locked?       1.00      1.00      1.00         6\n",
      "                   What should I do if my card is lost/stolen?       1.00      1.00      1.00         9\n",
      "           Where can I find my account number/IBAN/SWIFT code?       1.00      0.80      0.89         5\n",
      "                      Where is the nearest bank branch or ATM?       1.00      1.00      1.00        12\n",
      "                                      Why did my payment fail?       0.80      1.00      0.89         8\n",
      "                          Why hasn’t my transfer gone through?       0.94      0.88      0.91        17\n",
      "                        Why was I charged a fee on my account?       0.60      0.75      0.67         8\n",
      "\n",
      "                                                      accuracy                           0.90       480\n",
      "                                                     macro avg       0.91      0.90      0.89       480\n",
      "                                                  weighted avg       0.91      0.90      0.90       480\n",
      "\n"
     ]
    }
   ],
   "source": [
    "# Import necessary libraries\n",
    "import pandas as pd\n",
    "from sklearn.model_selection import train_test_split\n",
    "from sklearn.feature_extraction.text import TfidfVectorizer\n",
    "from sklearn.svm import SVC\n",
    "from sklearn.metrics import classification_report\n",
    "from sklearn.pipeline import make_pipeline\n",
    "from sklearn.preprocessing import LabelEncoder\n",
    "import re\n",
    "import string\n",
    "\n",
    "# Load the dataset\n",
    "file_path = 'updated_banking_faq_queries.csv'\n",
    "df = pd.read_csv(file_path)\n",
    "\n",
    "# Step 1: Preprocessing function to clean the text\n",
    "def preprocess_text(text):\n",
    "    # Remove punctuation\n",
    "    text = text.translate(str.maketrans('', '', string.punctuation))\n",
    "    # Convert to lowercase\n",
    "    text = text.lower()\n",
    "    # Remove digits\n",
    "    text = re.sub(r'\\d+', '', text)\n",
    "    return text\n",
    "\n",
    "# Apply the preprocessing function to the 'Variation' column\n",
    "df['cleaned_variation'] = df['Variation'].apply(preprocess_text)\n",
    "\n",
    "# Step 2: Encode the target variable 'CAT_A' using LabelEncoder\n",
    "le = LabelEncoder()\n",
    "df['CAT_A_encoded'] = le.fit_transform(df['CAT_A'])\n",
    "\n",
    "# Step 3: Train-test split\n",
    "X = df['cleaned_variation']\n",
    "y = df['CAT_A_encoded']\n",
    "\n",
    "X_train, X_test, y_train, y_test = train_test_split(X, y, test_size=0.2, random_state=42)\n",
    "\n",
    "# Step 4: Create a pipeline with TF-IDF Vectorizer and SVM classifier\n",
    "model = make_pipeline(\n",
    "    TfidfVectorizer(),\n",
    "    SVC(kernel='linear', random_state=42)\n",
    ")\n",
    "\n",
    "# Step 5: Train the model\n",
    "model.fit(X_train, y_train)\n",
    "\n",
    "# Step 6: Make predictions and evaluate the model\n",
    "y_pred = model.predict(X_test)\n",
    "report = classification_report(y_test, y_pred, target_names=le.classes_)\n",
    "\n",
    "# Display the classification report\n",
    "print(report)\n"
   ]
  },
  {
   "cell_type": "code",
   "execution_count": 8,
   "id": "6292a8b2-28b2-493a-a4a9-ed55864bf643",
   "metadata": {},
   "outputs": [
    {
     "name": "stdout",
     "output_type": "stream",
     "text": [
      "Model and Label Encoder saved to svm_cat_a_model.pkl and label_encoder.pkl\n"
     ]
    }
   ],
   "source": [
    "import joblib\n",
    "\n",
    "# Save the model to a file\n",
    "model_filename = 'svm_cat_a_model.pkl'\n",
    "joblib.dump(model, model_filename)\n",
    "\n",
    "# Save the LabelEncoder as well (to decode the predictions)\n",
    "label_encoder_filename = 'label_encoder.pkl'\n",
    "joblib.dump(le, label_encoder_filename)\n",
    "\n",
    "print(f\"Model and Label Encoder saved to {model_filename} and {label_encoder_filename}\")\n"
   ]
  },
  {
   "cell_type": "code",
   "execution_count": 10,
   "id": "70ca00e9-a2b8-4e62-9471-d961c72bc64a",
   "metadata": {},
   "outputs": [
    {
     "name": "stdout",
     "output_type": "stream",
     "text": [
      "The predicted CAT_A for 'money transferred wrongly?' is: I made a transfer to the wrong account. Can I reverse it?\n"
     ]
    }
   ],
   "source": [
    "import joblib\n",
    "\n",
    "# Load the saved model and label encoder\n",
    "model = joblib.load('svm_cat_a_model.pkl')\n",
    "le = joblib.load('label_encoder.pkl')\n",
    "\n",
    "# Function to predict CAT_A based on a new input\n",
    "def predict_cat_a(new_input):\n",
    "    # Preprocess the input\n",
    "    cleaned_input = preprocess_text(new_input)\n",
    "    # Make the prediction\n",
    "    prediction_encoded = model.predict([cleaned_input])[0]\n",
    "    # Convert the encoded label back to the original category\n",
    "    predicted_cat_a = le.inverse_transform([prediction_encoded])[0]\n",
    "    return predicted_cat_a\n",
    "\n",
    "# Example usage:\n",
    "new_query = \"money transferred wrongly?\"\n",
    "predicted_category = predict_cat_a(new_query)\n",
    "print(f\"The predicted CAT_A for '{new_query}' is: {predicted_category}\")\n"
   ]
  },
  {
   "cell_type": "code",
   "execution_count": null,
   "id": "b3f5dbc8-1dd8-496c-9991-903cf238ec9b",
   "metadata": {},
   "outputs": [],
   "source": []
  }
 ],
 "metadata": {
  "kernelspec": {
   "display_name": "Python 3 (ipykernel)",
   "language": "python",
   "name": "python3"
  },
  "language_info": {
   "codemirror_mode": {
    "name": "ipython",
    "version": 3
   },
   "file_extension": ".py",
   "mimetype": "text/x-python",
   "name": "python",
   "nbconvert_exporter": "python",
   "pygments_lexer": "ipython3",
   "version": "3.10.12"
  }
 },
 "nbformat": 4,
 "nbformat_minor": 5
}
