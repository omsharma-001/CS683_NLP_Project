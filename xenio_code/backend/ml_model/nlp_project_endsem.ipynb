{
  "cells": [
    {
      "cell_type": "code",
      "execution_count": null,
      "metadata": {
        "id": "Fv-IshlYQWzg"
      },
      "outputs": [],
      "source": [
        "import pandas as pd\n",
        "from sklearn.model_selection import train_test_split\n",
        "import re\n",
        "import string\n"
      ]
    },
    {
      "cell_type": "code",
      "execution_count": null,
      "metadata": {
        "id": "6R_Tv342VDAo"
      },
      "outputs": [],
      "source": [
        "file_path = '/content/updated_banking_faq_queries.csv'\n",
        "df = pd.read_csv(file_path)"
      ]
    },
    {
      "cell_type": "markdown",
      "metadata": {},
      "source": []
    },
    {
      "cell_type": "code",
      "execution_count": null,
      "metadata": {
        "id": "ED9CjtJ1VKo4"
      },
      "outputs": [],
      "source": [
        "def preprocess_text(text):\n",
        "    text = text.translate(str.maketrans('', '', string.punctuation))\n",
        "    text = text.lower()\n",
        "    text = re.sub(r'\\d+', '', text)\n",
        "    return text"
      ]
    },
    {
      "cell_type": "code",
      "execution_count": null,
      "metadata": {
        "id": "yPicGFDHVU3e"
      },
      "outputs": [],
      "source": [
        "df['cleaned_variation'] = df['Variation'].apply(preprocess_text)"
      ]
    },
    {
      "cell_type": "code",
      "execution_count": null,
      "metadata": {
        "colab": {
          "base_uri": "https://localhost:8080/"
        },
        "id": "R8GY9TdeEomL",
        "outputId": "63a2b1f1-e15d-4f34-c6a0-f5086e7f73dd"
      },
      "outputs": [
        {
          "data": {
            "text/plain": [
              "array(['How do I open a new bank account?',\n",
              "       'What documents are required for account verification?',\n",
              "       'How do I close my account?',\n",
              "       'How do I update my personal details?',\n",
              "       'I forgot my username/password. How can I recover it?',\n",
              "       'How do I reset my online banking password?',\n",
              "       'What should I do if my account is locked?',\n",
              "       'How can I enable two-factor authentication (2FA)?',\n",
              "       'Why hasn’t my transfer gone through?',\n",
              "       'How can I track my transaction history?',\n",
              "       'I made a transfer to the wrong account. Can I reverse it?',\n",
              "       'What are the daily transfer limits?',\n",
              "       'How do I activate my new credit/debit card?',\n",
              "       'What should I do if my card is lost/stolen?',\n",
              "       'How do I request a credit limit increase?',\n",
              "       'How can I block or unblock my card?',\n",
              "       'How do I apply for a personal loan?',\n",
              "       'What is the interest rate on loans?',\n",
              "       'How do I repay my loan early?',\n",
              "       'What are the eligibility criteria for a mortgage?',\n",
              "       'Why did my payment fail?',\n",
              "       'How do I set up auto-payments for my bills?',\n",
              "       'How can I check the status of a scheduled payment?',\n",
              "       'How can I stop or modify a recurring payment?',\n",
              "       'I suspect fraudulent activity on my account. What should I do?',\n",
              "       'How do I dispute a transaction?',\n",
              "       'What happens after I report a fraudulent transaction?',\n",
              "       'How can I protect myself from online banking fraud?',\n",
              "       'Why was I charged a fee on my account?',\n",
              "       'How do I avoid monthly maintenance fees?',\n",
              "       'What are the fees for international transfers?',\n",
              "       'Can I get a refund for an overdraft fee?',\n",
              "       'What is the current interest rate on savings accounts?',\n",
              "       'How do I open a fixed deposit account?',\n",
              "       'Can I withdraw money from my savings account before maturity?',\n",
              "       'How is interest calculated on savings accounts?',\n",
              "       'How do I register for online banking?',\n",
              "       'How can I check my account balance online?',\n",
              "       'How do I download the mobile banking app?',\n",
              "       'How can I change my transaction limits in the mobile app?',\n",
              "       'Where is the nearest bank branch or ATM?',\n",
              "       'How do I withdraw cash without a card from an ATM?',\n",
              "       'What is the maximum amount I can withdraw from an ATM?',\n",
              "       'Can I deposit checks using an ATM?',\n",
              "       'What are the bank’s working hours?',\n",
              "       'How do I contact customer service?',\n",
              "       'Where can I find my account number/IBAN/SWIFT code?',\n",
              "       'How do I apply for a new service or product?'], dtype=object)"
            ]
          },
          "execution_count": 5,
          "metadata": {},
          "output_type": "execute_result"
        }
      ],
      "source": [
        "distinct_values = df['CAT_A'].unique()\n",
        "distinct_values\n"
      ]
    },
    {
      "cell_type": "code",
      "execution_count": null,
      "metadata": {
        "id": "bCu5zYLnc22X"
      },
      "outputs": [],
      "source": [
        "from sklearn.preprocessing import LabelEncoder\n",
        "le = LabelEncoder()\n",
        "df['CAT_A_encoded'] = le.fit_transform(df['CAT_A'])"
      ]
    },
    {
      "cell_type": "code",
      "execution_count": null,
      "metadata": {
        "colab": {
          "base_uri": "https://localhost:8080/"
        },
        "id": "V9yNYGLyDAlX",
        "outputId": "d20e8e55-8798-4b37-e686-f14c9417faca"
      },
      "outputs": [
        {
          "name": "stdout",
          "output_type": "stream",
          "text": [
            "{'Can I deposit checks using an ATM?': 0, 'Can I get a refund for an overdraft fee?': 1, 'Can I withdraw money from my savings account before maturity?': 2, 'How can I block or unblock my card?': 3, 'How can I change my transaction limits in the mobile app?': 4, 'How can I check my account balance online?': 5, 'How can I check the status of a scheduled payment?': 6, 'How can I enable two-factor authentication (2FA)?': 7, 'How can I protect myself from online banking fraud?': 8, 'How can I stop or modify a recurring payment?': 9, 'How can I track my transaction history?': 10, 'How do I activate my new credit/debit card?': 11, 'How do I apply for a new service or product?': 12, 'How do I apply for a personal loan?': 13, 'How do I avoid monthly maintenance fees?': 14, 'How do I close my account?': 15, 'How do I contact customer service?': 16, 'How do I dispute a transaction?': 17, 'How do I download the mobile banking app?': 18, 'How do I open a fixed deposit account?': 19, 'How do I open a new bank account?': 20, 'How do I register for online banking?': 21, 'How do I repay my loan early?': 22, 'How do I request a credit limit increase?': 23, 'How do I reset my online banking password?': 24, 'How do I set up auto-payments for my bills?': 25, 'How do I update my personal details?': 26, 'How do I withdraw cash without a card from an ATM?': 27, 'How is interest calculated on savings accounts?': 28, 'I forgot my username/password. How can I recover it?': 29, 'I made a transfer to the wrong account. Can I reverse it?': 30, 'I suspect fraudulent activity on my account. What should I do?': 31, 'What are the bank’s working hours?': 32, 'What are the daily transfer limits?': 33, 'What are the eligibility criteria for a mortgage?': 34, 'What are the fees for international transfers?': 35, 'What documents are required for account verification?': 36, 'What happens after I report a fraudulent transaction?': 37, 'What is the current interest rate on savings accounts?': 38, 'What is the interest rate on loans?': 39, 'What is the maximum amount I can withdraw from an ATM?': 40, 'What should I do if my account is locked?': 41, 'What should I do if my card is lost/stolen?': 42, 'Where can I find my account number/IBAN/SWIFT code?': 43, 'Where is the nearest bank branch or ATM?': 44, 'Why did my payment fail?': 45, 'Why hasn’t my transfer gone through?': 46, 'Why was I charged a fee on my account?': 47}\n"
          ]
        }
      ],
      "source": [
        "from sklearn.preprocessing import LabelEncoder\n",
        "\n",
        "le = LabelEncoder()\n",
        "df['CAT_A_encoded'] = le.fit_transform(df['CAT_A'])\n",
        "\n",
        "label_mapping = dict(zip(le.classes_, le.transform(le.classes_)))\n",
        "\n",
        "print(label_mapping)"
      ]
    },
    {
      "cell_type": "code",
      "execution_count": null,
      "metadata": {
        "id": "LcrgSzhIWmX6"
      },
      "outputs": [],
      "source": [
        "train_sentences = df[\"cleaned_variation\"].to_numpy()\n",
        "train_labels = df[\"CAT_A_encoded\"].to_numpy()"
      ]
    },
    {
      "cell_type": "code",
      "execution_count": null,
      "metadata": {
        "colab": {
          "base_uri": "https://localhost:8080/"
        },
        "id": "hwVSUfHYfNHS",
        "outputId": "c8324565-4f45-4c54-cdf0-8b4b400843e9"
      },
      "outputs": [
        {
          "data": {
            "text/plain": [
              "(2400,)"
            ]
          },
          "execution_count": 8,
          "metadata": {},
          "output_type": "execute_result"
        }
      ],
      "source": [
        "train_labels.shape"
      ]
    },
    {
      "cell_type": "code",
      "execution_count": null,
      "metadata": {
        "id": "jwynNWmdbYDr"
      },
      "outputs": [],
      "source": [
        "X_train, X_test, y_train, y_test = train_test_split(train_sentences, train_labels, test_size=0.2, random_state=42)"
      ]
    },
    {
      "cell_type": "code",
      "execution_count": null,
      "metadata": {
        "colab": {
          "base_uri": "https://localhost:8080/"
        },
        "id": "n4OPMS4FOeMy",
        "outputId": "de9e283f-6db9-4c68-dba3-865dce5ad122"
      },
      "outputs": [
        {
          "data": {
            "text/plain": [
              "array([15, 24,  2, ...,  6, 17, 39])"
            ]
          },
          "execution_count": 10,
          "metadata": {},
          "output_type": "execute_result"
        }
      ],
      "source": [
        "y_train"
      ]
    },
    {
      "cell_type": "code",
      "execution_count": null,
      "metadata": {
        "id": "suZANhGCbmuw"
      },
      "outputs": [],
      "source": [
        "import tensorflow as tf\n",
        "from tensorflow.keras.layers import TextVectorization\n"
      ]
    },
    {
      "cell_type": "code",
      "execution_count": null,
      "metadata": {
        "id": "qW9REP_pbr25"
      },
      "outputs": [],
      "source": [
        "text_vectorizer = TextVectorization(max_tokens=None, standardize=\"lower_and_strip_punctuation\", split=\"whitespace\",  ngrams=None, output_mode=\"int\", output_sequence_length=None)"
      ]
    },
    {
      "cell_type": "code",
      "execution_count": null,
      "metadata": {
        "colab": {
          "base_uri": "https://localhost:8080/"
        },
        "id": "yIZBEB_abxTd",
        "outputId": "27d4088b-dc2c-4058-cc1b-2d839ea0c36d"
      },
      "outputs": [
        {
          "data": {
            "text/plain": [
              "11"
            ]
          },
          "execution_count": 13,
          "metadata": {},
          "output_type": "execute_result"
        }
      ],
      "source": [
        "round(sum([len(i.split()) for i in X_train])/len(X_train))"
      ]
    },
    {
      "cell_type": "code",
      "execution_count": null,
      "metadata": {
        "id": "ig5Xxo6lb7aD"
      },
      "outputs": [],
      "source": [
        "max_vocab_length = 10000\n",
        "max_length = 20"
      ]
    },
    {
      "cell_type": "code",
      "execution_count": null,
      "metadata": {
        "id": "aWJq7obacAv1"
      },
      "outputs": [],
      "source": [
        "text_vectorizer = TextVectorization(max_tokens=max_vocab_length,\n",
        "                                    output_mode=\"int\",\n",
        "                                    output_sequence_length=max_length)"
      ]
    },
    {
      "cell_type": "code",
      "execution_count": null,
      "metadata": {
        "id": "9-obFMarcCzb"
      },
      "outputs": [],
      "source": [
        "text_vectorizer.adapt(X_train)"
      ]
    },
    {
      "cell_type": "code",
      "execution_count": null,
      "metadata": {
        "colab": {
          "base_uri": "https://localhost:8080/"
        },
        "id": "gfOsXu5FcIG9",
        "outputId": "6d7f45e4-5072-424e-9e2f-44140aeedb70"
      },
      "outputs": [
        {
          "data": {
            "text/plain": [
              "<tf.Tensor: shape=(1, 20), dtype=int64, numpy=\n",
              "array([[838,   8,   1,  27,   3,   1,   0,   0,   0,   0,   0,   0,   0,\n",
              "          0,   0,   0,   0,   0,   0,   0]])>"
            ]
          },
          "execution_count": 17,
          "metadata": {},
          "output_type": "execute_result"
        }
      ],
      "source": [
        "sample_sentence = \"There's a flood in my street!\"\n",
        "text_vectorizer([sample_sentence])"
      ]
    },
    {
      "cell_type": "code",
      "execution_count": null,
      "metadata": {
        "id": "l_5LwQ-kcL-M"
      },
      "outputs": [],
      "source": [
        "tf.random.set_seed(42)\n",
        "from tensorflow.keras import layers"
      ]
    },
    {
      "cell_type": "code",
      "execution_count": null,
      "metadata": {
        "colab": {
          "base_uri": "https://localhost:8080/"
        },
        "id": "uxa2lJIVcOsS",
        "outputId": "9c1b1c06-1f86-411a-b030-ea0456cc01c2"
      },
      "outputs": [
        {
          "name": "stderr",
          "output_type": "stream",
          "text": [
            "/usr/local/lib/python3.10/dist-packages/keras/src/layers/core/embedding.py:90: UserWarning: Argument `input_length` is deprecated. Just remove it.\n",
            "  warnings.warn(\n"
          ]
        }
      ],
      "source": [
        "embedding = layers.Embedding(input_dim=max_vocab_length,\n",
        "                             output_dim=128,\n",
        "                             embeddings_initializer=\"uniform\",\n",
        "                             input_length=max_length,\n",
        "                             name=\"embedding_1\")"
      ]
    },
    {
      "cell_type": "code",
      "execution_count": null,
      "metadata": {
        "colab": {
          "base_uri": "https://localhost:8080/"
        },
        "id": "9fxbg4LPcRrN",
        "outputId": "b2a9f02a-25e3-4935-ef55-6e0decb9f8b2"
      },
      "outputs": [
        {
          "name": "stdout",
          "output_type": "stream",
          "text": [
            "Original text:\n",
            "how do i check my payment history for issues      \n",
            "\n",
            "Embedded version:\n"
          ]
        },
        {
          "data": {
            "text/plain": [
              "<tf.Tensor: shape=(1, 20, 128), dtype=float32, numpy=\n",
              "array([[[-0.04900318, -0.04708189, -0.02478098, ..., -0.01102585,\n",
              "         -0.03193197,  0.01119925],\n",
              "        [-0.01910412,  0.00801634,  0.0207254 , ..., -0.03519938,\n",
              "         -0.00616542,  0.03229127],\n",
              "        [-0.04346534,  0.0112267 , -0.04433036, ...,  0.03350014,\n",
              "         -0.01906863, -0.02327411],\n",
              "        ...,\n",
              "        [ 0.02816925, -0.01936547,  0.0268073 , ..., -0.01825867,\n",
              "          0.03880591,  0.00524354],\n",
              "        [ 0.02816925, -0.01936547,  0.0268073 , ..., -0.01825867,\n",
              "          0.03880591,  0.00524354],\n",
              "        [ 0.02816925, -0.01936547,  0.0268073 , ..., -0.01825867,\n",
              "          0.03880591,  0.00524354]]], dtype=float32)>"
            ]
          },
          "execution_count": 20,
          "metadata": {},
          "output_type": "execute_result"
        }
      ],
      "source": [
        "import random\n",
        "random_sentence = random.choice(X_train)\n",
        "print(f\"Original text:\\n{random_sentence}\\\n",
        "      \\n\\nEmbedded version:\")\n",
        "\n",
        "sample_embed = embedding(text_vectorizer([random_sentence]))\n",
        "sample_embed"
      ]
    },
    {
      "cell_type": "code",
      "execution_count": null,
      "metadata": {
        "id": "gfheKNW8cbwz"
      },
      "outputs": [],
      "source": [
        "from sklearn.metrics import accuracy_score, precision_recall_fscore_support\n",
        "\n",
        "def calculate_results(y_true, y_pred):\n",
        "\n",
        "  model_accuracy = accuracy_score(y_true, y_pred) * 100\n",
        "\n",
        "  model_precision, model_recall, model_f1, _ = precision_recall_fscore_support(y_true, y_pred, average=\"weighted\")\n",
        "  model_results = {\"accuracy\": model_accuracy,\n",
        "                  \"precision\": model_precision,\n",
        "                  \"recall\": model_recall,\n",
        "                  \"f1\": model_f1}\n",
        "  return model_results"
      ]
    },
    {
      "cell_type": "code",
      "execution_count": null,
      "metadata": {
        "id": "3qtkTG_EciIQ"
      },
      "outputs": [],
      "source": [
        "from tensorflow.keras import layers\n",
        "from tensorflow.keras.regularizers import l2\n",
        "\n",
        "inputs = layers.Input(shape=(1,), dtype=\"string\")\n",
        "x = text_vectorizer(inputs)\n",
        "x = embedding(x)\n",
        "x = layers.LSTM(128)(x)\n",
        "x = layers.Dense(100, activation=\"relu\")(x)\n",
        "x = layers.Dense(50, activation=\"relu\")(x)\n",
        "outputs = layers.Dense(48, activation=\"softmax\")(x)\n",
        "model_1 = tf.keras.Model(inputs, outputs, name=\"model_1_LSTM\")"
      ]
    },
    {
      "cell_type": "code",
      "execution_count": null,
      "metadata": {
        "id": "lNX9RiFWdP6b"
      },
      "outputs": [],
      "source": [
        "model_1.compile(\n",
        "    loss=\"sparse_categorical_crossentropy\",\n",
        "    optimizer=tf.keras.optimizers.Adam(),\n",
        "    metrics=[\"accuracy\"],\n",
        ")\n"
      ]
    },
    {
      "cell_type": "code",
      "execution_count": null,
      "metadata": {
        "colab": {
          "base_uri": "https://localhost:8080/",
          "height": 369
        },
        "id": "6rsqUWp0dSt9",
        "outputId": "d52cdaa3-9c5f-4de2-b2b6-05ae805287e0"
      },
      "outputs": [
        {
          "data": {
            "text/html": [
              "<pre style=\"white-space:pre;overflow-x:auto;line-height:normal;font-family:Menlo,'DejaVu Sans Mono',consolas,'Courier New',monospace\"><span style=\"font-weight: bold\">Model: \"model_1_LSTM\"</span>\n",
              "</pre>\n"
            ],
            "text/plain": [
              "\u001b[1mModel: \"model_1_LSTM\"\u001b[0m\n"
            ]
          },
          "metadata": {},
          "output_type": "display_data"
        },
        {
          "data": {
            "text/html": [
              "<pre style=\"white-space:pre;overflow-x:auto;line-height:normal;font-family:Menlo,'DejaVu Sans Mono',consolas,'Courier New',monospace\">┏━━━━━━━━━━━━━━━━━━━━━━━━━━━━━━━━━━━━━━┳━━━━━━━━━━━━━━━━━━━━━━━━━━━━━┳━━━━━━━━━━━━━━━━━┓\n",
              "┃<span style=\"font-weight: bold\"> Layer (type)                         </span>┃<span style=\"font-weight: bold\"> Output Shape                </span>┃<span style=\"font-weight: bold\">         Param # </span>┃\n",
              "┡━━━━━━━━━━━━━━━━━━━━━━━━━━━━━━━━━━━━━━╇━━━━━━━━━━━━━━━━━━━━━━━━━━━━━╇━━━━━━━━━━━━━━━━━┩\n",
              "│ input_layer (<span style=\"color: #0087ff; text-decoration-color: #0087ff\">InputLayer</span>)             │ (<span style=\"color: #00d7ff; text-decoration-color: #00d7ff\">None</span>, <span style=\"color: #00af00; text-decoration-color: #00af00\">1</span>)                   │               <span style=\"color: #00af00; text-decoration-color: #00af00\">0</span> │\n",
              "├──────────────────────────────────────┼─────────────────────────────┼─────────────────┤\n",
              "│ text_vectorization_1                 │ (<span style=\"color: #00d7ff; text-decoration-color: #00d7ff\">None</span>, <span style=\"color: #00af00; text-decoration-color: #00af00\">20</span>)                  │               <span style=\"color: #00af00; text-decoration-color: #00af00\">0</span> │\n",
              "│ (<span style=\"color: #0087ff; text-decoration-color: #0087ff\">TextVectorization</span>)                  │                             │                 │\n",
              "├──────────────────────────────────────┼─────────────────────────────┼─────────────────┤\n",
              "│ embedding_1 (<span style=\"color: #0087ff; text-decoration-color: #0087ff\">Embedding</span>)              │ (<span style=\"color: #00d7ff; text-decoration-color: #00d7ff\">None</span>, <span style=\"color: #00af00; text-decoration-color: #00af00\">20</span>, <span style=\"color: #00af00; text-decoration-color: #00af00\">128</span>)             │       <span style=\"color: #00af00; text-decoration-color: #00af00\">1,280,000</span> │\n",
              "├──────────────────────────────────────┼─────────────────────────────┼─────────────────┤\n",
              "│ lstm (<span style=\"color: #0087ff; text-decoration-color: #0087ff\">LSTM</span>)                          │ (<span style=\"color: #00d7ff; text-decoration-color: #00d7ff\">None</span>, <span style=\"color: #00af00; text-decoration-color: #00af00\">128</span>)                 │         <span style=\"color: #00af00; text-decoration-color: #00af00\">131,584</span> │\n",
              "├──────────────────────────────────────┼─────────────────────────────┼─────────────────┤\n",
              "│ dense (<span style=\"color: #0087ff; text-decoration-color: #0087ff\">Dense</span>)                        │ (<span style=\"color: #00d7ff; text-decoration-color: #00d7ff\">None</span>, <span style=\"color: #00af00; text-decoration-color: #00af00\">100</span>)                 │          <span style=\"color: #00af00; text-decoration-color: #00af00\">12,900</span> │\n",
              "├──────────────────────────────────────┼─────────────────────────────┼─────────────────┤\n",
              "│ dense_1 (<span style=\"color: #0087ff; text-decoration-color: #0087ff\">Dense</span>)                      │ (<span style=\"color: #00d7ff; text-decoration-color: #00d7ff\">None</span>, <span style=\"color: #00af00; text-decoration-color: #00af00\">50</span>)                  │           <span style=\"color: #00af00; text-decoration-color: #00af00\">5,050</span> │\n",
              "├──────────────────────────────────────┼─────────────────────────────┼─────────────────┤\n",
              "│ dense_2 (<span style=\"color: #0087ff; text-decoration-color: #0087ff\">Dense</span>)                      │ (<span style=\"color: #00d7ff; text-decoration-color: #00d7ff\">None</span>, <span style=\"color: #00af00; text-decoration-color: #00af00\">48</span>)                  │           <span style=\"color: #00af00; text-decoration-color: #00af00\">2,448</span> │\n",
              "└──────────────────────────────────────┴─────────────────────────────┴─────────────────┘\n",
              "</pre>\n"
            ],
            "text/plain": [
              "┏━━━━━━━━━━━━━━━━━━━━━━━━━━━━━━━━━━━━━━┳━━━━━━━━━━━━━━━━━━━━━━━━━━━━━┳━━━━━━━━━━━━━━━━━┓\n",
              "┃\u001b[1m \u001b[0m\u001b[1mLayer (type)                        \u001b[0m\u001b[1m \u001b[0m┃\u001b[1m \u001b[0m\u001b[1mOutput Shape               \u001b[0m\u001b[1m \u001b[0m┃\u001b[1m \u001b[0m\u001b[1m        Param #\u001b[0m\u001b[1m \u001b[0m┃\n",
              "┡━━━━━━━━━━━━━━━━━━━━━━━━━━━━━━━━━━━━━━╇━━━━━━━━━━━━━━━━━━━━━━━━━━━━━╇━━━━━━━━━━━━━━━━━┩\n",
              "│ input_layer (\u001b[38;5;33mInputLayer\u001b[0m)             │ (\u001b[38;5;45mNone\u001b[0m, \u001b[38;5;34m1\u001b[0m)                   │               \u001b[38;5;34m0\u001b[0m │\n",
              "├──────────────────────────────────────┼─────────────────────────────┼─────────────────┤\n",
              "│ text_vectorization_1                 │ (\u001b[38;5;45mNone\u001b[0m, \u001b[38;5;34m20\u001b[0m)                  │               \u001b[38;5;34m0\u001b[0m │\n",
              "│ (\u001b[38;5;33mTextVectorization\u001b[0m)                  │                             │                 │\n",
              "├──────────────────────────────────────┼─────────────────────────────┼─────────────────┤\n",
              "│ embedding_1 (\u001b[38;5;33mEmbedding\u001b[0m)              │ (\u001b[38;5;45mNone\u001b[0m, \u001b[38;5;34m20\u001b[0m, \u001b[38;5;34m128\u001b[0m)             │       \u001b[38;5;34m1,280,000\u001b[0m │\n",
              "├──────────────────────────────────────┼─────────────────────────────┼─────────────────┤\n",
              "│ lstm (\u001b[38;5;33mLSTM\u001b[0m)                          │ (\u001b[38;5;45mNone\u001b[0m, \u001b[38;5;34m128\u001b[0m)                 │         \u001b[38;5;34m131,584\u001b[0m │\n",
              "├──────────────────────────────────────┼─────────────────────────────┼─────────────────┤\n",
              "│ dense (\u001b[38;5;33mDense\u001b[0m)                        │ (\u001b[38;5;45mNone\u001b[0m, \u001b[38;5;34m100\u001b[0m)                 │          \u001b[38;5;34m12,900\u001b[0m │\n",
              "├──────────────────────────────────────┼─────────────────────────────┼─────────────────┤\n",
              "│ dense_1 (\u001b[38;5;33mDense\u001b[0m)                      │ (\u001b[38;5;45mNone\u001b[0m, \u001b[38;5;34m50\u001b[0m)                  │           \u001b[38;5;34m5,050\u001b[0m │\n",
              "├──────────────────────────────────────┼─────────────────────────────┼─────────────────┤\n",
              "│ dense_2 (\u001b[38;5;33mDense\u001b[0m)                      │ (\u001b[38;5;45mNone\u001b[0m, \u001b[38;5;34m48\u001b[0m)                  │           \u001b[38;5;34m2,448\u001b[0m │\n",
              "└──────────────────────────────────────┴─────────────────────────────┴─────────────────┘\n"
            ]
          },
          "metadata": {},
          "output_type": "display_data"
        },
        {
          "data": {
            "text/html": [
              "<pre style=\"white-space:pre;overflow-x:auto;line-height:normal;font-family:Menlo,'DejaVu Sans Mono',consolas,'Courier New',monospace\"><span style=\"font-weight: bold\"> Total params: </span><span style=\"color: #00af00; text-decoration-color: #00af00\">1,431,982</span> (5.46 MB)\n",
              "</pre>\n"
            ],
            "text/plain": [
              "\u001b[1m Total params: \u001b[0m\u001b[38;5;34m1,431,982\u001b[0m (5.46 MB)\n"
            ]
          },
          "metadata": {},
          "output_type": "display_data"
        },
        {
          "data": {
            "text/html": [
              "<pre style=\"white-space:pre;overflow-x:auto;line-height:normal;font-family:Menlo,'DejaVu Sans Mono',consolas,'Courier New',monospace\"><span style=\"font-weight: bold\"> Trainable params: </span><span style=\"color: #00af00; text-decoration-color: #00af00\">1,431,982</span> (5.46 MB)\n",
              "</pre>\n"
            ],
            "text/plain": [
              "\u001b[1m Trainable params: \u001b[0m\u001b[38;5;34m1,431,982\u001b[0m (5.46 MB)\n"
            ]
          },
          "metadata": {},
          "output_type": "display_data"
        },
        {
          "data": {
            "text/html": [
              "<pre style=\"white-space:pre;overflow-x:auto;line-height:normal;font-family:Menlo,'DejaVu Sans Mono',consolas,'Courier New',monospace\"><span style=\"font-weight: bold\"> Non-trainable params: </span><span style=\"color: #00af00; text-decoration-color: #00af00\">0</span> (0.00 B)\n",
              "</pre>\n"
            ],
            "text/plain": [
              "\u001b[1m Non-trainable params: \u001b[0m\u001b[38;5;34m0\u001b[0m (0.00 B)\n"
            ]
          },
          "metadata": {},
          "output_type": "display_data"
        }
      ],
      "source": [
        "model_1.summary()"
      ]
    },
    {
      "cell_type": "code",
      "execution_count": null,
      "metadata": {
        "colab": {
          "base_uri": "https://localhost:8080/"
        },
        "id": "7kV9HZFJdgW5",
        "outputId": "88227d93-ecc6-4c49-94cb-8ae6e7bdd43d"
      },
      "outputs": [
        {
          "name": "stdout",
          "output_type": "stream",
          "text": [
            "Epoch 1/50\n",
            "\u001b[1m60/60\u001b[0m \u001b[32m━━━━━━━━━━━━━━━━━━━━\u001b[0m\u001b[37m\u001b[0m \u001b[1m5s\u001b[0m 40ms/step - accuracy: 0.0238 - loss: 3.8727\n",
            "Epoch 2/50\n",
            "\u001b[1m60/60\u001b[0m \u001b[32m━━━━━━━━━━━━━━━━━━━━\u001b[0m\u001b[37m\u001b[0m \u001b[1m2s\u001b[0m 39ms/step - accuracy: 0.0422 - loss: 3.7301\n",
            "Epoch 3/50\n",
            "\u001b[1m60/60\u001b[0m \u001b[32m━━━━━━━━━━━━━━━━━━━━\u001b[0m\u001b[37m\u001b[0m \u001b[1m4s\u001b[0m 65ms/step - accuracy: 0.1424 - loss: 2.8970\n",
            "Epoch 4/50\n",
            "\u001b[1m60/60\u001b[0m \u001b[32m━━━━━━━━━━━━━━━━━━━━\u001b[0m\u001b[37m\u001b[0m \u001b[1m4s\u001b[0m 38ms/step - accuracy: 0.2677 - loss: 2.2914\n",
            "Epoch 5/50\n",
            "\u001b[1m60/60\u001b[0m \u001b[32m━━━━━━━━━━━━━━━━━━━━\u001b[0m\u001b[37m\u001b[0m \u001b[1m2s\u001b[0m 41ms/step - accuracy: 0.3520 - loss: 1.9707\n",
            "Epoch 6/50\n",
            "\u001b[1m60/60\u001b[0m \u001b[32m━━━━━━━━━━━━━━━━━━━━\u001b[0m\u001b[37m\u001b[0m \u001b[1m2s\u001b[0m 37ms/step - accuracy: 0.3880 - loss: 1.7380\n",
            "Epoch 7/50\n",
            "\u001b[1m60/60\u001b[0m \u001b[32m━━━━━━━━━━━━━━━━━━━━\u001b[0m\u001b[37m\u001b[0m \u001b[1m3s\u001b[0m 45ms/step - accuracy: 0.4405 - loss: 1.5418\n",
            "Epoch 8/50\n",
            "\u001b[1m60/60\u001b[0m \u001b[32m━━━━━━━━━━━━━━━━━━━━\u001b[0m\u001b[37m\u001b[0m \u001b[1m5s\u001b[0m 39ms/step - accuracy: 0.5463 - loss: 1.2483\n",
            "Epoch 9/50\n",
            "\u001b[1m60/60\u001b[0m \u001b[32m━━━━━━━━━━━━━━━━━━━━\u001b[0m\u001b[37m\u001b[0m \u001b[1m2s\u001b[0m 37ms/step - accuracy: 0.6130 - loss: 1.0876\n",
            "Epoch 10/50\n",
            "\u001b[1m60/60\u001b[0m \u001b[32m━━━━━━━━━━━━━━━━━━━━\u001b[0m\u001b[37m\u001b[0m \u001b[1m3s\u001b[0m 37ms/step - accuracy: 0.6974 - loss: 0.9765\n",
            "Epoch 11/50\n",
            "\u001b[1m60/60\u001b[0m \u001b[32m━━━━━━━━━━━━━━━━━━━━\u001b[0m\u001b[37m\u001b[0m \u001b[1m3s\u001b[0m 47ms/step - accuracy: 0.7104 - loss: 0.9014\n",
            "Epoch 12/50\n",
            "\u001b[1m60/60\u001b[0m \u001b[32m━━━━━━━━━━━━━━━━━━━━\u001b[0m\u001b[37m\u001b[0m \u001b[1m4s\u001b[0m 58ms/step - accuracy: 0.7665 - loss: 0.7527\n",
            "Epoch 13/50\n",
            "\u001b[1m60/60\u001b[0m \u001b[32m━━━━━━━━━━━━━━━━━━━━\u001b[0m\u001b[37m\u001b[0m \u001b[1m4s\u001b[0m 38ms/step - accuracy: 0.7872 - loss: 0.6261\n",
            "Epoch 14/50\n",
            "\u001b[1m60/60\u001b[0m \u001b[32m━━━━━━━━━━━━━━━━━━━━\u001b[0m\u001b[37m\u001b[0m \u001b[1m2s\u001b[0m 38ms/step - accuracy: 0.8553 - loss: 0.4826\n",
            "Epoch 15/50\n",
            "\u001b[1m60/60\u001b[0m \u001b[32m━━━━━━━━━━━━━━━━━━━━\u001b[0m\u001b[37m\u001b[0m \u001b[1m2s\u001b[0m 38ms/step - accuracy: 0.8729 - loss: 0.4306\n",
            "Epoch 16/50\n",
            "\u001b[1m60/60\u001b[0m \u001b[32m━━━━━━━━━━━━━━━━━━━━\u001b[0m\u001b[37m\u001b[0m \u001b[1m4s\u001b[0m 59ms/step - accuracy: 0.8749 - loss: 0.3781\n",
            "Epoch 17/50\n",
            "\u001b[1m60/60\u001b[0m \u001b[32m━━━━━━━━━━━━━━━━━━━━\u001b[0m\u001b[37m\u001b[0m \u001b[1m4s\u001b[0m 38ms/step - accuracy: 0.9146 - loss: 0.2858\n",
            "Epoch 18/50\n",
            "\u001b[1m60/60\u001b[0m \u001b[32m━━━━━━━━━━━━━━━━━━━━\u001b[0m\u001b[37m\u001b[0m \u001b[1m2s\u001b[0m 37ms/step - accuracy: 0.9413 - loss: 0.2189\n",
            "Epoch 19/50\n",
            "\u001b[1m60/60\u001b[0m \u001b[32m━━━━━━━━━━━━━━━━━━━━\u001b[0m\u001b[37m\u001b[0m \u001b[1m3s\u001b[0m 38ms/step - accuracy: 0.9455 - loss: 0.1889\n",
            "Epoch 20/50\n",
            "\u001b[1m60/60\u001b[0m \u001b[32m━━━━━━━━━━━━━━━━━━━━\u001b[0m\u001b[37m\u001b[0m \u001b[1m3s\u001b[0m 47ms/step - accuracy: 0.9581 - loss: 0.1590\n",
            "Epoch 21/50\n",
            "\u001b[1m60/60\u001b[0m \u001b[32m━━━━━━━━━━━━━━━━━━━━\u001b[0m\u001b[37m\u001b[0m \u001b[1m5s\u001b[0m 38ms/step - accuracy: 0.9705 - loss: 0.1206\n",
            "Epoch 22/50\n",
            "\u001b[1m60/60\u001b[0m \u001b[32m━━━━━━━━━━━━━━━━━━━━\u001b[0m\u001b[37m\u001b[0m \u001b[1m2s\u001b[0m 36ms/step - accuracy: 0.9796 - loss: 0.0779\n",
            "Epoch 23/50\n",
            "\u001b[1m60/60\u001b[0m \u001b[32m━━━━━━━━━━━━━━━━━━━━\u001b[0m\u001b[37m\u001b[0m \u001b[1m2s\u001b[0m 38ms/step - accuracy: 0.9745 - loss: 0.1002\n",
            "Epoch 24/50\n",
            "\u001b[1m60/60\u001b[0m \u001b[32m━━━━━━━━━━━━━━━━━━━━\u001b[0m\u001b[37m\u001b[0m \u001b[1m2s\u001b[0m 40ms/step - accuracy: 0.9747 - loss: 0.0818\n",
            "Epoch 25/50\n",
            "\u001b[1m60/60\u001b[0m \u001b[32m━━━━━━━━━━━━━━━━━━━━\u001b[0m\u001b[37m\u001b[0m \u001b[1m4s\u001b[0m 62ms/step - accuracy: 0.9773 - loss: 0.0839\n",
            "Epoch 26/50\n",
            "\u001b[1m60/60\u001b[0m \u001b[32m━━━━━━━━━━━━━━━━━━━━\u001b[0m\u001b[37m\u001b[0m \u001b[1m3s\u001b[0m 43ms/step - accuracy: 0.9757 - loss: 0.0864\n",
            "Epoch 27/50\n",
            "\u001b[1m60/60\u001b[0m \u001b[32m━━━━━━━━━━━━━━━━━━━━\u001b[0m\u001b[37m\u001b[0m \u001b[1m2s\u001b[0m 38ms/step - accuracy: 0.9841 - loss: 0.0629\n",
            "Epoch 28/50\n",
            "\u001b[1m60/60\u001b[0m \u001b[32m━━━━━━━━━━━━━━━━━━━━\u001b[0m\u001b[37m\u001b[0m \u001b[1m2s\u001b[0m 39ms/step - accuracy: 0.9786 - loss: 0.0736\n",
            "Epoch 29/50\n",
            "\u001b[1m60/60\u001b[0m \u001b[32m━━━━━━━━━━━━━━━━━━━━\u001b[0m\u001b[37m\u001b[0m \u001b[1m2s\u001b[0m 39ms/step - accuracy: 0.9878 - loss: 0.0592\n",
            "Epoch 30/50\n",
            "\u001b[1m60/60\u001b[0m \u001b[32m━━━━━━━━━━━━━━━━━━━━\u001b[0m\u001b[37m\u001b[0m \u001b[1m4s\u001b[0m 65ms/step - accuracy: 0.9905 - loss: 0.0408\n",
            "Epoch 31/50\n",
            "\u001b[1m60/60\u001b[0m \u001b[32m━━━━━━━━━━━━━━━━━━━━\u001b[0m\u001b[37m\u001b[0m \u001b[1m2s\u001b[0m 38ms/step - accuracy: 0.9963 - loss: 0.0220\n",
            "Epoch 32/50\n",
            "\u001b[1m60/60\u001b[0m \u001b[32m━━━━━━━━━━━━━━━━━━━━\u001b[0m\u001b[37m\u001b[0m \u001b[1m3s\u001b[0m 38ms/step - accuracy: 0.9935 - loss: 0.0302\n",
            "Epoch 33/50\n",
            "\u001b[1m60/60\u001b[0m \u001b[32m━━━━━━━━━━━━━━━━━━━━\u001b[0m\u001b[37m\u001b[0m \u001b[1m3s\u001b[0m 38ms/step - accuracy: 0.9805 - loss: 0.0704\n",
            "Epoch 34/50\n",
            "\u001b[1m60/60\u001b[0m \u001b[32m━━━━━━━━━━━━━━━━━━━━\u001b[0m\u001b[37m\u001b[0m \u001b[1m3s\u001b[0m 39ms/step - accuracy: 0.9767 - loss: 0.1098\n",
            "Epoch 35/50\n",
            "\u001b[1m60/60\u001b[0m \u001b[32m━━━━━━━━━━━━━━━━━━━━\u001b[0m\u001b[37m\u001b[0m \u001b[1m4s\u001b[0m 65ms/step - accuracy: 0.9819 - loss: 0.0613\n",
            "Epoch 36/50\n",
            "\u001b[1m60/60\u001b[0m \u001b[32m━━━━━━━━━━━━━━━━━━━━\u001b[0m\u001b[37m\u001b[0m \u001b[1m3s\u001b[0m 38ms/step - accuracy: 0.9607 - loss: 0.1271\n",
            "Epoch 37/50\n",
            "\u001b[1m60/60\u001b[0m \u001b[32m━━━━━━━━━━━━━━━━━━━━\u001b[0m\u001b[37m\u001b[0m \u001b[1m2s\u001b[0m 37ms/step - accuracy: 0.9779 - loss: 0.0762\n",
            "Epoch 38/50\n",
            "\u001b[1m60/60\u001b[0m \u001b[32m━━━━━━━━━━━━━━━━━━━━\u001b[0m\u001b[37m\u001b[0m \u001b[1m3s\u001b[0m 37ms/step - accuracy: 0.9857 - loss: 0.0487\n",
            "Epoch 39/50\n",
            "\u001b[1m60/60\u001b[0m \u001b[32m━━━━━━━━━━━━━━━━━━━━\u001b[0m\u001b[37m\u001b[0m \u001b[1m3s\u001b[0m 51ms/step - accuracy: 0.9876 - loss: 0.0481\n",
            "Epoch 40/50\n",
            "\u001b[1m60/60\u001b[0m \u001b[32m━━━━━━━━━━━━━━━━━━━━\u001b[0m\u001b[37m\u001b[0m \u001b[1m4s\u001b[0m 38ms/step - accuracy: 0.9953 - loss: 0.0237\n",
            "Epoch 41/50\n",
            "\u001b[1m60/60\u001b[0m \u001b[32m━━━━━━━━━━━━━━━━━━━━\u001b[0m\u001b[37m\u001b[0m \u001b[1m2s\u001b[0m 38ms/step - accuracy: 0.9950 - loss: 0.0223\n",
            "Epoch 42/50\n",
            "\u001b[1m60/60\u001b[0m \u001b[32m━━━━━━━━━━━━━━━━━━━━\u001b[0m\u001b[37m\u001b[0m \u001b[1m3s\u001b[0m 39ms/step - accuracy: 0.9927 - loss: 0.0274\n",
            "Epoch 43/50\n",
            "\u001b[1m60/60\u001b[0m \u001b[32m━━━━━━━━━━━━━━━━━━━━\u001b[0m\u001b[37m\u001b[0m \u001b[1m3s\u001b[0m 49ms/step - accuracy: 0.9939 - loss: 0.0165\n",
            "Epoch 44/50\n",
            "\u001b[1m60/60\u001b[0m \u001b[32m━━━━━━━━━━━━━━━━━━━━\u001b[0m\u001b[37m\u001b[0m \u001b[1m4s\u001b[0m 58ms/step - accuracy: 0.9911 - loss: 0.0254\n",
            "Epoch 45/50\n",
            "\u001b[1m60/60\u001b[0m \u001b[32m━━━━━━━━━━━━━━━━━━━━\u001b[0m\u001b[37m\u001b[0m \u001b[1m4s\u001b[0m 38ms/step - accuracy: 0.9975 - loss: 0.0114\n",
            "Epoch 46/50\n",
            "\u001b[1m60/60\u001b[0m \u001b[32m━━━━━━━━━━━━━━━━━━━━\u001b[0m\u001b[37m\u001b[0m \u001b[1m2s\u001b[0m 39ms/step - accuracy: 0.9988 - loss: 0.0076\n",
            "Epoch 47/50\n",
            "\u001b[1m60/60\u001b[0m \u001b[32m━━━━━━━━━━━━━━━━━━━━\u001b[0m\u001b[37m\u001b[0m \u001b[1m2s\u001b[0m 39ms/step - accuracy: 0.9988 - loss: 0.0065\n",
            "Epoch 48/50\n",
            "\u001b[1m60/60\u001b[0m \u001b[32m━━━━━━━━━━━━━━━━━━━━\u001b[0m\u001b[37m\u001b[0m \u001b[1m4s\u001b[0m 63ms/step - accuracy: 0.9988 - loss: 0.0058\n",
            "Epoch 49/50\n",
            "\u001b[1m60/60\u001b[0m \u001b[32m━━━━━━━━━━━━━━━━━━━━\u001b[0m\u001b[37m\u001b[0m \u001b[1m4s\u001b[0m 38ms/step - accuracy: 0.9994 - loss: 0.0053\n",
            "Epoch 50/50\n",
            "\u001b[1m60/60\u001b[0m \u001b[32m━━━━━━━━━━━━━━━━━━━━\u001b[0m\u001b[37m\u001b[0m \u001b[1m2s\u001b[0m 38ms/step - accuracy: 0.9994 - loss: 0.0044\n"
          ]
        }
      ],
      "source": [
        "model_1_history = model_1.fit(X_train,\n",
        "                              y_train,\n",
        "                              epochs=50,\n",
        "                              )"
      ]
    },
    {
      "cell_type": "code",
      "execution_count": null,
      "metadata": {
        "colab": {
          "base_uri": "https://localhost:8080/"
        },
        "id": "XILxzHXednjb",
        "outputId": "aa14716f-e329-488f-c24d-da13c9e4c5e7"
      },
      "outputs": [
        {
          "name": "stdout",
          "output_type": "stream",
          "text": [
            "\u001b[1m15/15\u001b[0m \u001b[32m━━━━━━━━━━━━━━━━━━━━\u001b[0m\u001b[37m\u001b[0m \u001b[1m0s\u001b[0m 11ms/step\n"
          ]
        }
      ],
      "source": [
        "model_1_pred_probs = model_1.predict(X_test)"
      ]
    },
    {
      "cell_type": "code",
      "execution_count": null,
      "metadata": {
        "id": "USrMUxpeOHgQ"
      },
      "outputs": [],
      "source": [
        "import numpy as np\n",
        "model_1_preds = np.argmax(model_1_pred_probs, axis=1)"
      ]
    },
    {
      "cell_type": "code",
      "execution_count": null,
      "metadata": {
        "colab": {
          "base_uri": "https://localhost:8080/"
        },
        "id": "d1Y90QcXPcZg",
        "outputId": "ebc397d2-daa6-48ff-9bb6-79e2f38e0fbb"
      },
      "outputs": [
        {
          "data": {
            "text/plain": [
              "array([44, 40, 39,  2, 45, 18,  8,  2, 17, 25,  2, 15,  9, 47, 18, 28, 26,\n",
              "       21, 40,  1, 45, 31,  6,  0,  2, 30, 37, 40, 37, 27, 28,  6, 44,  9,\n",
              "        9, 27, 29, 17, 30, 34, 46, 37, 43, 33, 36,  6, 44, 27, 16,  6, 25,\n",
              "       19, 30, 21, 18, 16, 40, 47,  8,  1, 28, 22, 19, 34, 38, 23, 17, 46,\n",
              "        5, 25, 47, 18, 46, 19,  7, 24, 36, 43,  3, 15, 24,  3, 21,  3, 33,\n",
              "       39,  6, 10, 15, 20, 10, 11, 29, 32, 35, 40, 23, 37,  8,  0, 17,  2,\n",
              "       45, 42, 18, 17, 31, 39, 19, 10, 23, 28, 32, 38, 13, 46, 19, 28,  9,\n",
              "       11, 42, 39,  9, 38, 18, 31, 12, 32, 34, 26, 40,  6, 16,  7,  6, 47,\n",
              "       44, 29,  5, 13, 25,  4, 31, 14,  9, 31,  1, 31, 27, 10,  1, 40, 45,\n",
              "       29, 38,  3,  3,  6, 26, 37, 21, 22, 11, 20, 11,  4, 35, 29, 20, 26,\n",
              "       46, 31, 38, 29, 10, 42, 24, 11, 40, 13, 28, 24, 46, 40, 19, 17,  8,\n",
              "       40, 36, 46, 37, 46, 35, 34, 12, 36, 24, 16, 18, 38, 31,  9, 19,  8,\n",
              "        0, 45,  8, 10, 46, 24, 28, 46, 25, 47, 24, 43, 28, 44,  5,  3, 22,\n",
              "       46, 24, 47, 25,  2, 11, 25, 22, 35, 31, 28, 34,  2, 33, 31,  0, 46,\n",
              "       43, 13, 10, 21, 32, 23, 45, 27, 34, 20,  0, 30,  7, 30,  7,  8, 40,\n",
              "        2, 37,  7, 11, 20, 36, 42, 20,  9,  0, 12,  3, 15, 10, 39,  7, 20,\n",
              "       22,  2, 11,  0, 10, 39, 18, 17, 46, 10, 40, 25, 36,  7, 46, 36, 25,\n",
              "        0, 30, 33, 28, 37, 46, 26,  6,  5, 21, 41,  6, 22,  2, 42, 36, 42,\n",
              "       33, 34, 18, 41, 31, 38, 29, 39, 40, 34, 39, 10, 47, 35, 32, 22, 10,\n",
              "       24,  4, 41, 11, 10, 18,  2, 29,  5,  8, 16, 12, 36,  5,  5,  4, 15,\n",
              "       39,  3, 26, 44, 31, 16, 13, 46,  9, 21, 31, 11, 29, 23, 12, 42,  3,\n",
              "       12, 45,  5, 19, 20,  3, 26, 27, 34, 23,  5, 36, 10, 37, 27, 44, 39,\n",
              "       26,  4, 11, 37, 27, 29, 11, 13,  2, 41,  1, 10, 23,  1, 40,  5, 45,\n",
              "       13,  6, 43,  7, 29, 21, 23, 20,  9, 31, 39, 27, 34, 26, 24,  3, 14,\n",
              "        8,  2, 25, 23, 28, 15,  4,  4, 42, 14, 29, 13, 41, 30, 38,  7, 27,\n",
              "       22,  0, 30, 26, 46,  1, 42, 40, 26, 28,  0, 21, 16, 24, 45, 45, 11,\n",
              "       40, 43, 33,  4, 26, 32, 41, 33, 37, 37, 33, 46, 37, 17, 24, 14, 30,\n",
              "       39, 42, 20, 17,  4,  5, 47, 34, 11,  2,  7, 30, 16, 20, 23, 46, 21,\n",
              "       29, 26, 22, 39])"
            ]
          },
          "execution_count": 28,
          "metadata": {},
          "output_type": "execute_result"
        }
      ],
      "source": [
        "model_1_preds"
      ]
    },
    {
      "cell_type": "code",
      "execution_count": null,
      "metadata": {
        "colab": {
          "base_uri": "https://localhost:8080/"
        },
        "id": "_d3l6M7EPZ0T",
        "outputId": "f80a12aa-7b41-4cca-b3a5-48784877d44d"
      },
      "outputs": [
        {
          "data": {
            "text/plain": [
              "array([44,  4, 39,  2, 44, 15,  8,  2, 17, 25,  2, 15,  9, 35, 18, 28, 26,\n",
              "       21, 35,  1, 45,  0, 45,  0,  8, 30, 37,  2, 37, 27, 28,  6, 44,  9,\n",
              "        9, 27, 29, 10, 30, 34, 46, 37,  3, 33, 36,  6, 44, 40, 16,  6, 25,\n",
              "       19, 46, 21, 18, 16, 12, 47,  8,  1, 28, 22, 19, 34, 28, 23, 17, 46,\n",
              "        5, 25, 47, 18, 43, 19, 29, 24, 32, 26,  3, 14, 29,  3, 21,  3, 33,\n",
              "       39,  6, 10, 15, 20, 31, 11, 29, 32, 35, 40, 23, 37,  8,  0, 17, 47,\n",
              "       39, 37, 18,  4, 31, 39, 19, 47, 23, 28, 32, 28, 13, 46, 19, 28,  9,\n",
              "       11, 42,  1,  9, 38, 18, 30, 13, 32, 34, 26, 40,  6, 16,  7,  6, 47,\n",
              "       44, 29,  5, 13, 25,  4, 37, 14,  9, 43,  1, 12, 27, 10,  1, 40, 45,\n",
              "       24, 38,  3,  3, 22, 26, 31, 21, 22, 11, 20, 11, 44, 35, 29, 46, 26,\n",
              "       46, 32, 28, 29, 10, 42, 24, 11, 40, 13,  2, 24, 46, 40, 19, 22,  8,\n",
              "        2, 36, 32, 37, 46, 35, 34, 12, 36, 24, 16, 32, 38, 31,  9, 22,  8,\n",
              "        0, 45, 31, 10, 46, 24, 38, 46, 25, 14, 24, 43, 28, 44, 14,  3, 22,\n",
              "       46, 12,  8, 25,  2, 11, 25, 22, 35,  8, 28, 22,  2, 15, 29,  0, 46,\n",
              "       43, 13, 10,  8, 32, 39, 45, 27, 34, 32,  0, 30,  7, 30,  7,  8, 40,\n",
              "       35, 31,  7, 11, 20, 36, 42, 20,  9,  0, 12,  3, 15, 10, 39,  7, 32,\n",
              "       22,  2, 11,  0, 10, 39, 18, 17, 46, 44, 40, 29, 36,  7, 46, 36, 25,\n",
              "        0, 30, 33, 28, 30, 22, 26, 11,  5, 21, 41,  6, 22,  2, 42, 36, 44,\n",
              "        5, 34,  4, 41, 12, 28, 24,  1, 40, 10, 19, 10, 47, 35, 32, 22, 37,\n",
              "       24, 40, 41, 42, 10, 18,  2, 29,  5,  8, 16, 12, 36,  5,  5,  4, 15,\n",
              "       39,  3, 24, 44, 31, 18, 13, 46,  9, 21, 12, 11, 29, 23, 12, 42,  3,\n",
              "       12, 45,  5, 19, 20,  3,  8, 27, 34, 23,  5, 36, 10, 37, 27, 47, 39,\n",
              "       26,  4, 11, 31, 27, 29, 11,  8, 35, 41,  1, 31, 34,  1, 40,  5, 22,\n",
              "       13,  6,  5,  7, 29, 21, 15, 20,  9, 17, 39, 27, 34, 26, 24,  3, 47,\n",
              "        8,  2, 25, 23, 39, 15, 44,  4, 42, 14, 29, 13, 41, 30, 38,  7, 27,\n",
              "       22, 32, 30, 26, 46,  1, 42, 40, 26, 28,  0, 21, 16, 24, 45, 45, 11,\n",
              "       40, 43, 33,  4, 26,  0, 41, 33, 31, 37, 33, 15, 10, 17, 24, 14, 30,\n",
              "       38, 42, 13,  8, 44,  5, 14, 34, 11,  2,  7, 31, 16, 20, 23, 32, 21,\n",
              "       29, 26, 46, 39])"
            ]
          },
          "execution_count": 29,
          "metadata": {},
          "output_type": "execute_result"
        }
      ],
      "source": [
        "y_test"
      ]
    },
    {
      "cell_type": "code",
      "execution_count": null,
      "metadata": {
        "colab": {
          "base_uri": "https://localhost:8080/"
        },
        "id": "dsjrLFJ5OM6i",
        "outputId": "c94bd888-8d71-40cb-f4a6-a8969ebbfb55"
      },
      "outputs": [
        {
          "data": {
            "text/plain": [
              "{'accuracy': 77.08333333333334,\n",
              " 'precision': 0.7910764736299275,\n",
              " 'recall': 0.7708333333333334,\n",
              " 'f1': 0.767641522052219}"
            ]
          },
          "execution_count": 30,
          "metadata": {},
          "output_type": "execute_result"
        }
      ],
      "source": [
        "model_1_results = calculate_results(y_true=y_test,\n",
        "                                    y_pred=model_1_preds)\n",
        "model_1_results"
      ]
    },
    {
      "cell_type": "code",
      "execution_count": null,
      "metadata": {
        "id": "DMVtnOhaPFL_"
      },
      "outputs": [],
      "source": [
        "mapped_labels = le.inverse_transform(model_1_preds)\n"
      ]
    },
    {
      "cell_type": "code",
      "execution_count": null,
      "metadata": {
        "colab": {
          "base_uri": "https://localhost:8080/"
        },
        "id": "IpAiNkdwDtuE",
        "outputId": "ea2929ab-d91f-4541-f1b7-40d870a6447d"
      },
      "outputs": [
        {
          "data": {
            "text/plain": [
              "array(['Where is the nearest bank branch or ATM?',\n",
              "       'What is the maximum amount I can withdraw from an ATM?',\n",
              "       'What is the interest rate on loans?',\n",
              "       'Can I withdraw money from my savings account before maturity?',\n",
              "       'Why did my payment fail?',\n",
              "       'How do I download the mobile banking app?',\n",
              "       'How can I protect myself from online banking fraud?',\n",
              "       'Can I withdraw money from my savings account before maturity?',\n",
              "       'How do I dispute a transaction?',\n",
              "       'How do I set up auto-payments for my bills?',\n",
              "       'Can I withdraw money from my savings account before maturity?',\n",
              "       'How do I close my account?',\n",
              "       'How can I stop or modify a recurring payment?',\n",
              "       'Why was I charged a fee on my account?',\n",
              "       'How do I download the mobile banking app?',\n",
              "       'How is interest calculated on savings accounts?',\n",
              "       'How do I update my personal details?',\n",
              "       'How do I register for online banking?',\n",
              "       'What is the maximum amount I can withdraw from an ATM?',\n",
              "       'Can I get a refund for an overdraft fee?',\n",
              "       'Why did my payment fail?',\n",
              "       'I suspect fraudulent activity on my account. What should I do?',\n",
              "       'How can I check the status of a scheduled payment?',\n",
              "       'Can I deposit checks using an ATM?',\n",
              "       'Can I withdraw money from my savings account before maturity?',\n",
              "       'I made a transfer to the wrong account. Can I reverse it?',\n",
              "       'What happens after I report a fraudulent transaction?',\n",
              "       'What is the maximum amount I can withdraw from an ATM?',\n",
              "       'What happens after I report a fraudulent transaction?',\n",
              "       'How do I withdraw cash without a card from an ATM?',\n",
              "       'How is interest calculated on savings accounts?',\n",
              "       'How can I check the status of a scheduled payment?',\n",
              "       'Where is the nearest bank branch or ATM?',\n",
              "       'How can I stop or modify a recurring payment?',\n",
              "       'How can I stop or modify a recurring payment?',\n",
              "       'How do I withdraw cash without a card from an ATM?',\n",
              "       'I forgot my username/password. How can I recover it?',\n",
              "       'How do I dispute a transaction?',\n",
              "       'I made a transfer to the wrong account. Can I reverse it?',\n",
              "       'What are the eligibility criteria for a mortgage?',\n",
              "       'Why hasn’t my transfer gone through?',\n",
              "       'What happens after I report a fraudulent transaction?',\n",
              "       'Where can I find my account number/IBAN/SWIFT code?',\n",
              "       'What are the daily transfer limits?',\n",
              "       'What documents are required for account verification?',\n",
              "       'How can I check the status of a scheduled payment?',\n",
              "       'Where is the nearest bank branch or ATM?',\n",
              "       'How do I withdraw cash without a card from an ATM?',\n",
              "       'How do I contact customer service?',\n",
              "       'How can I check the status of a scheduled payment?',\n",
              "       'How do I set up auto-payments for my bills?',\n",
              "       'How do I open a fixed deposit account?',\n",
              "       'I made a transfer to the wrong account. Can I reverse it?',\n",
              "       'How do I register for online banking?',\n",
              "       'How do I download the mobile banking app?',\n",
              "       'How do I contact customer service?',\n",
              "       'What is the maximum amount I can withdraw from an ATM?',\n",
              "       'Why was I charged a fee on my account?',\n",
              "       'How can I protect myself from online banking fraud?',\n",
              "       'Can I get a refund for an overdraft fee?',\n",
              "       'How is interest calculated on savings accounts?',\n",
              "       'How do I repay my loan early?',\n",
              "       'How do I open a fixed deposit account?',\n",
              "       'What are the eligibility criteria for a mortgage?',\n",
              "       'What is the current interest rate on savings accounts?',\n",
              "       'How do I request a credit limit increase?',\n",
              "       'How do I dispute a transaction?',\n",
              "       'Why hasn’t my transfer gone through?',\n",
              "       'How can I check my account balance online?',\n",
              "       'How do I set up auto-payments for my bills?',\n",
              "       'Why was I charged a fee on my account?',\n",
              "       'How do I download the mobile banking app?',\n",
              "       'Why hasn’t my transfer gone through?',\n",
              "       'How do I open a fixed deposit account?',\n",
              "       'How can I enable two-factor authentication (2FA)?',\n",
              "       'How do I reset my online banking password?',\n",
              "       'What documents are required for account verification?',\n",
              "       'Where can I find my account number/IBAN/SWIFT code?',\n",
              "       'How can I block or unblock my card?',\n",
              "       'How do I close my account?',\n",
              "       'How do I reset my online banking password?',\n",
              "       'How can I block or unblock my card?',\n",
              "       'How do I register for online banking?',\n",
              "       'How can I block or unblock my card?',\n",
              "       'What are the daily transfer limits?',\n",
              "       'What is the interest rate on loans?',\n",
              "       'How can I check the status of a scheduled payment?',\n",
              "       'How can I track my transaction history?',\n",
              "       'How do I close my account?', 'How do I open a new bank account?',\n",
              "       'How can I track my transaction history?',\n",
              "       'How do I activate my new credit/debit card?',\n",
              "       'I forgot my username/password. How can I recover it?',\n",
              "       'What are the bank’s working hours?',\n",
              "       'What are the fees for international transfers?',\n",
              "       'What is the maximum amount I can withdraw from an ATM?',\n",
              "       'How do I request a credit limit increase?',\n",
              "       'What happens after I report a fraudulent transaction?',\n",
              "       'How can I protect myself from online banking fraud?',\n",
              "       'Can I deposit checks using an ATM?',\n",
              "       'How do I dispute a transaction?',\n",
              "       'Can I withdraw money from my savings account before maturity?',\n",
              "       'Why did my payment fail?',\n",
              "       'What should I do if my card is lost/stolen?',\n",
              "       'How do I download the mobile banking app?',\n",
              "       'How do I dispute a transaction?',\n",
              "       'I suspect fraudulent activity on my account. What should I do?',\n",
              "       'What is the interest rate on loans?',\n",
              "       'How do I open a fixed deposit account?',\n",
              "       'How can I track my transaction history?',\n",
              "       'How do I request a credit limit increase?',\n",
              "       'How is interest calculated on savings accounts?',\n",
              "       'What are the bank’s working hours?',\n",
              "       'What is the current interest rate on savings accounts?',\n",
              "       'How do I apply for a personal loan?',\n",
              "       'Why hasn’t my transfer gone through?',\n",
              "       'How do I open a fixed deposit account?',\n",
              "       'How is interest calculated on savings accounts?',\n",
              "       'How can I stop or modify a recurring payment?',\n",
              "       'How do I activate my new credit/debit card?',\n",
              "       'What should I do if my card is lost/stolen?',\n",
              "       'What is the interest rate on loans?',\n",
              "       'How can I stop or modify a recurring payment?',\n",
              "       'What is the current interest rate on savings accounts?',\n",
              "       'How do I download the mobile banking app?',\n",
              "       'I suspect fraudulent activity on my account. What should I do?',\n",
              "       'How do I apply for a new service or product?',\n",
              "       'What are the bank’s working hours?',\n",
              "       'What are the eligibility criteria for a mortgage?',\n",
              "       'How do I update my personal details?',\n",
              "       'What is the maximum amount I can withdraw from an ATM?',\n",
              "       'How can I check the status of a scheduled payment?',\n",
              "       'How do I contact customer service?',\n",
              "       'How can I enable two-factor authentication (2FA)?',\n",
              "       'How can I check the status of a scheduled payment?',\n",
              "       'Why was I charged a fee on my account?',\n",
              "       'Where is the nearest bank branch or ATM?',\n",
              "       'I forgot my username/password. How can I recover it?',\n",
              "       'How can I check my account balance online?',\n",
              "       'How do I apply for a personal loan?',\n",
              "       'How do I set up auto-payments for my bills?',\n",
              "       'How can I change my transaction limits in the mobile app?',\n",
              "       'I suspect fraudulent activity on my account. What should I do?',\n",
              "       'How do I avoid monthly maintenance fees?',\n",
              "       'How can I stop or modify a recurring payment?',\n",
              "       'I suspect fraudulent activity on my account. What should I do?',\n",
              "       'Can I get a refund for an overdraft fee?',\n",
              "       'I suspect fraudulent activity on my account. What should I do?',\n",
              "       'How do I withdraw cash without a card from an ATM?',\n",
              "       'How can I track my transaction history?',\n",
              "       'Can I get a refund for an overdraft fee?',\n",
              "       'What is the maximum amount I can withdraw from an ATM?',\n",
              "       'Why did my payment fail?',\n",
              "       'I forgot my username/password. How can I recover it?',\n",
              "       'What is the current interest rate on savings accounts?',\n",
              "       'How can I block or unblock my card?',\n",
              "       'How can I block or unblock my card?',\n",
              "       'How can I check the status of a scheduled payment?',\n",
              "       'How do I update my personal details?',\n",
              "       'What happens after I report a fraudulent transaction?',\n",
              "       'How do I register for online banking?',\n",
              "       'How do I repay my loan early?',\n",
              "       'How do I activate my new credit/debit card?',\n",
              "       'How do I open a new bank account?',\n",
              "       'How do I activate my new credit/debit card?',\n",
              "       'How can I change my transaction limits in the mobile app?',\n",
              "       'What are the fees for international transfers?',\n",
              "       'I forgot my username/password. How can I recover it?',\n",
              "       'How do I open a new bank account?',\n",
              "       'How do I update my personal details?',\n",
              "       'Why hasn’t my transfer gone through?',\n",
              "       'I suspect fraudulent activity on my account. What should I do?',\n",
              "       'What is the current interest rate on savings accounts?',\n",
              "       'I forgot my username/password. How can I recover it?',\n",
              "       'How can I track my transaction history?',\n",
              "       'What should I do if my card is lost/stolen?',\n",
              "       'How do I reset my online banking password?',\n",
              "       'How do I activate my new credit/debit card?',\n",
              "       'What is the maximum amount I can withdraw from an ATM?',\n",
              "       'How do I apply for a personal loan?',\n",
              "       'How is interest calculated on savings accounts?',\n",
              "       'How do I reset my online banking password?',\n",
              "       'Why hasn’t my transfer gone through?',\n",
              "       'What is the maximum amount I can withdraw from an ATM?',\n",
              "       'How do I open a fixed deposit account?',\n",
              "       'How do I dispute a transaction?',\n",
              "       'How can I protect myself from online banking fraud?',\n",
              "       'What is the maximum amount I can withdraw from an ATM?',\n",
              "       'What documents are required for account verification?',\n",
              "       'Why hasn’t my transfer gone through?',\n",
              "       'What happens after I report a fraudulent transaction?',\n",
              "       'Why hasn’t my transfer gone through?',\n",
              "       'What are the fees for international transfers?',\n",
              "       'What are the eligibility criteria for a mortgage?',\n",
              "       'How do I apply for a new service or product?',\n",
              "       'What documents are required for account verification?',\n",
              "       'How do I reset my online banking password?',\n",
              "       'How do I contact customer service?',\n",
              "       'How do I download the mobile banking app?',\n",
              "       'What is the current interest rate on savings accounts?',\n",
              "       'I suspect fraudulent activity on my account. What should I do?',\n",
              "       'How can I stop or modify a recurring payment?',\n",
              "       'How do I open a fixed deposit account?',\n",
              "       'How can I protect myself from online banking fraud?',\n",
              "       'Can I deposit checks using an ATM?', 'Why did my payment fail?',\n",
              "       'How can I protect myself from online banking fraud?',\n",
              "       'How can I track my transaction history?',\n",
              "       'Why hasn’t my transfer gone through?',\n",
              "       'How do I reset my online banking password?',\n",
              "       'How is interest calculated on savings accounts?',\n",
              "       'Why hasn’t my transfer gone through?',\n",
              "       'How do I set up auto-payments for my bills?',\n",
              "       'Why was I charged a fee on my account?',\n",
              "       'How do I reset my online banking password?',\n",
              "       'Where can I find my account number/IBAN/SWIFT code?',\n",
              "       'How is interest calculated on savings accounts?',\n",
              "       'Where is the nearest bank branch or ATM?',\n",
              "       'How can I check my account balance online?',\n",
              "       'How can I block or unblock my card?',\n",
              "       'How do I repay my loan early?',\n",
              "       'Why hasn’t my transfer gone through?',\n",
              "       'How do I reset my online banking password?',\n",
              "       'Why was I charged a fee on my account?',\n",
              "       'How do I set up auto-payments for my bills?',\n",
              "       'Can I withdraw money from my savings account before maturity?',\n",
              "       'How do I activate my new credit/debit card?',\n",
              "       'How do I set up auto-payments for my bills?',\n",
              "       'How do I repay my loan early?',\n",
              "       'What are the fees for international transfers?',\n",
              "       'I suspect fraudulent activity on my account. What should I do?',\n",
              "       'How is interest calculated on savings accounts?',\n",
              "       'What are the eligibility criteria for a mortgage?',\n",
              "       'Can I withdraw money from my savings account before maturity?',\n",
              "       'What are the daily transfer limits?',\n",
              "       'I suspect fraudulent activity on my account. What should I do?',\n",
              "       'Can I deposit checks using an ATM?',\n",
              "       'Why hasn’t my transfer gone through?',\n",
              "       'Where can I find my account number/IBAN/SWIFT code?',\n",
              "       'How do I apply for a personal loan?',\n",
              "       'How can I track my transaction history?',\n",
              "       'How do I register for online banking?',\n",
              "       'What are the bank’s working hours?',\n",
              "       'How do I request a credit limit increase?',\n",
              "       'Why did my payment fail?',\n",
              "       'How do I withdraw cash without a card from an ATM?',\n",
              "       'What are the eligibility criteria for a mortgage?',\n",
              "       'How do I open a new bank account?',\n",
              "       'Can I deposit checks using an ATM?',\n",
              "       'I made a transfer to the wrong account. Can I reverse it?',\n",
              "       'How can I enable two-factor authentication (2FA)?',\n",
              "       'I made a transfer to the wrong account. Can I reverse it?',\n",
              "       'How can I enable two-factor authentication (2FA)?',\n",
              "       'How can I protect myself from online banking fraud?',\n",
              "       'What is the maximum amount I can withdraw from an ATM?',\n",
              "       'Can I withdraw money from my savings account before maturity?',\n",
              "       'What happens after I report a fraudulent transaction?',\n",
              "       'How can I enable two-factor authentication (2FA)?',\n",
              "       'How do I activate my new credit/debit card?',\n",
              "       'How do I open a new bank account?',\n",
              "       'What documents are required for account verification?',\n",
              "       'What should I do if my card is lost/stolen?',\n",
              "       'How do I open a new bank account?',\n",
              "       'How can I stop or modify a recurring payment?',\n",
              "       'Can I deposit checks using an ATM?',\n",
              "       'How do I apply for a new service or product?',\n",
              "       'How can I block or unblock my card?',\n",
              "       'How do I close my account?',\n",
              "       'How can I track my transaction history?',\n",
              "       'What is the interest rate on loans?',\n",
              "       'How can I enable two-factor authentication (2FA)?',\n",
              "       'How do I open a new bank account?',\n",
              "       'How do I repay my loan early?',\n",
              "       'Can I withdraw money from my savings account before maturity?',\n",
              "       'How do I activate my new credit/debit card?',\n",
              "       'Can I deposit checks using an ATM?',\n",
              "       'How can I track my transaction history?',\n",
              "       'What is the interest rate on loans?',\n",
              "       'How do I download the mobile banking app?',\n",
              "       'How do I dispute a transaction?',\n",
              "       'Why hasn’t my transfer gone through?',\n",
              "       'How can I track my transaction history?',\n",
              "       'What is the maximum amount I can withdraw from an ATM?',\n",
              "       'How do I set up auto-payments for my bills?',\n",
              "       'What documents are required for account verification?',\n",
              "       'How can I enable two-factor authentication (2FA)?',\n",
              "       'Why hasn’t my transfer gone through?',\n",
              "       'What documents are required for account verification?',\n",
              "       'How do I set up auto-payments for my bills?',\n",
              "       'Can I deposit checks using an ATM?',\n",
              "       'I made a transfer to the wrong account. Can I reverse it?',\n",
              "       'What are the daily transfer limits?',\n",
              "       'How is interest calculated on savings accounts?',\n",
              "       'What happens after I report a fraudulent transaction?',\n",
              "       'Why hasn’t my transfer gone through?',\n",
              "       'How do I update my personal details?',\n",
              "       'How can I check the status of a scheduled payment?',\n",
              "       'How can I check my account balance online?',\n",
              "       'How do I register for online banking?',\n",
              "       'What should I do if my account is locked?',\n",
              "       'How can I check the status of a scheduled payment?',\n",
              "       'How do I repay my loan early?',\n",
              "       'Can I withdraw money from my savings account before maturity?',\n",
              "       'What should I do if my card is lost/stolen?',\n",
              "       'What documents are required for account verification?',\n",
              "       'What should I do if my card is lost/stolen?',\n",
              "       'What are the daily transfer limits?',\n",
              "       'What are the eligibility criteria for a mortgage?',\n",
              "       'How do I download the mobile banking app?',\n",
              "       'What should I do if my account is locked?',\n",
              "       'I suspect fraudulent activity on my account. What should I do?',\n",
              "       'What is the current interest rate on savings accounts?',\n",
              "       'I forgot my username/password. How can I recover it?',\n",
              "       'What is the interest rate on loans?',\n",
              "       'What is the maximum amount I can withdraw from an ATM?',\n",
              "       'What are the eligibility criteria for a mortgage?',\n",
              "       'What is the interest rate on loans?',\n",
              "       'How can I track my transaction history?',\n",
              "       'Why was I charged a fee on my account?',\n",
              "       'What are the fees for international transfers?',\n",
              "       'What are the bank’s working hours?',\n",
              "       'How do I repay my loan early?',\n",
              "       'How can I track my transaction history?',\n",
              "       'How do I reset my online banking password?',\n",
              "       'How can I change my transaction limits in the mobile app?',\n",
              "       'What should I do if my account is locked?',\n",
              "       'How do I activate my new credit/debit card?',\n",
              "       'How can I track my transaction history?',\n",
              "       'How do I download the mobile banking app?',\n",
              "       'Can I withdraw money from my savings account before maturity?',\n",
              "       'I forgot my username/password. How can I recover it?',\n",
              "       'How can I check my account balance online?',\n",
              "       'How can I protect myself from online banking fraud?',\n",
              "       'How do I contact customer service?',\n",
              "       'How do I apply for a new service or product?',\n",
              "       'What documents are required for account verification?',\n",
              "       'How can I check my account balance online?',\n",
              "       'How can I check my account balance online?',\n",
              "       'How can I change my transaction limits in the mobile app?',\n",
              "       'How do I close my account?',\n",
              "       'What is the interest rate on loans?',\n",
              "       'How can I block or unblock my card?',\n",
              "       'How do I update my personal details?',\n",
              "       'Where is the nearest bank branch or ATM?',\n",
              "       'I suspect fraudulent activity on my account. What should I do?',\n",
              "       'How do I contact customer service?',\n",
              "       'How do I apply for a personal loan?',\n",
              "       'Why hasn’t my transfer gone through?',\n",
              "       'How can I stop or modify a recurring payment?',\n",
              "       'How do I register for online banking?',\n",
              "       'I suspect fraudulent activity on my account. What should I do?',\n",
              "       'How do I activate my new credit/debit card?',\n",
              "       'I forgot my username/password. How can I recover it?',\n",
              "       'How do I request a credit limit increase?',\n",
              "       'How do I apply for a new service or product?',\n",
              "       'What should I do if my card is lost/stolen?',\n",
              "       'How can I block or unblock my card?',\n",
              "       'How do I apply for a new service or product?',\n",
              "       'Why did my payment fail?',\n",
              "       'How can I check my account balance online?',\n",
              "       'How do I open a fixed deposit account?',\n",
              "       'How do I open a new bank account?',\n",
              "       'How can I block or unblock my card?',\n",
              "       'How do I update my personal details?',\n",
              "       'How do I withdraw cash without a card from an ATM?',\n",
              "       'What are the eligibility criteria for a mortgage?',\n",
              "       'How do I request a credit limit increase?',\n",
              "       'How can I check my account balance online?',\n",
              "       'What documents are required for account verification?',\n",
              "       'How can I track my transaction history?',\n",
              "       'What happens after I report a fraudulent transaction?',\n",
              "       'How do I withdraw cash without a card from an ATM?',\n",
              "       'Where is the nearest bank branch or ATM?',\n",
              "       'What is the interest rate on loans?',\n",
              "       'How do I update my personal details?',\n",
              "       'How can I change my transaction limits in the mobile app?',\n",
              "       'How do I activate my new credit/debit card?',\n",
              "       'What happens after I report a fraudulent transaction?',\n",
              "       'How do I withdraw cash without a card from an ATM?',\n",
              "       'I forgot my username/password. How can I recover it?',\n",
              "       'How do I activate my new credit/debit card?',\n",
              "       'How do I apply for a personal loan?',\n",
              "       'Can I withdraw money from my savings account before maturity?',\n",
              "       'What should I do if my account is locked?',\n",
              "       'Can I get a refund for an overdraft fee?',\n",
              "       'How can I track my transaction history?',\n",
              "       'How do I request a credit limit increase?',\n",
              "       'Can I get a refund for an overdraft fee?',\n",
              "       'What is the maximum amount I can withdraw from an ATM?',\n",
              "       'How can I check my account balance online?',\n",
              "       'Why did my payment fail?', 'How do I apply for a personal loan?',\n",
              "       'How can I check the status of a scheduled payment?',\n",
              "       'Where can I find my account number/IBAN/SWIFT code?',\n",
              "       'How can I enable two-factor authentication (2FA)?',\n",
              "       'I forgot my username/password. How can I recover it?',\n",
              "       'How do I register for online banking?',\n",
              "       'How do I request a credit limit increase?',\n",
              "       'How do I open a new bank account?',\n",
              "       'How can I stop or modify a recurring payment?',\n",
              "       'I suspect fraudulent activity on my account. What should I do?',\n",
              "       'What is the interest rate on loans?',\n",
              "       'How do I withdraw cash without a card from an ATM?',\n",
              "       'What are the eligibility criteria for a mortgage?',\n",
              "       'How do I update my personal details?',\n",
              "       'How do I reset my online banking password?',\n",
              "       'How can I block or unblock my card?',\n",
              "       'How do I avoid monthly maintenance fees?',\n",
              "       'How can I protect myself from online banking fraud?',\n",
              "       'Can I withdraw money from my savings account before maturity?',\n",
              "       'How do I set up auto-payments for my bills?',\n",
              "       'How do I request a credit limit increase?',\n",
              "       'How is interest calculated on savings accounts?',\n",
              "       'How do I close my account?',\n",
              "       'How can I change my transaction limits in the mobile app?',\n",
              "       'How can I change my transaction limits in the mobile app?',\n",
              "       'What should I do if my card is lost/stolen?',\n",
              "       'How do I avoid monthly maintenance fees?',\n",
              "       'I forgot my username/password. How can I recover it?',\n",
              "       'How do I apply for a personal loan?',\n",
              "       'What should I do if my account is locked?',\n",
              "       'I made a transfer to the wrong account. Can I reverse it?',\n",
              "       'What is the current interest rate on savings accounts?',\n",
              "       'How can I enable two-factor authentication (2FA)?',\n",
              "       'How do I withdraw cash without a card from an ATM?',\n",
              "       'How do I repay my loan early?',\n",
              "       'Can I deposit checks using an ATM?',\n",
              "       'I made a transfer to the wrong account. Can I reverse it?',\n",
              "       'How do I update my personal details?',\n",
              "       'Why hasn’t my transfer gone through?',\n",
              "       'Can I get a refund for an overdraft fee?',\n",
              "       'What should I do if my card is lost/stolen?',\n",
              "       'What is the maximum amount I can withdraw from an ATM?',\n",
              "       'How do I update my personal details?',\n",
              "       'How is interest calculated on savings accounts?',\n",
              "       'Can I deposit checks using an ATM?',\n",
              "       'How do I register for online banking?',\n",
              "       'How do I contact customer service?',\n",
              "       'How do I reset my online banking password?',\n",
              "       'Why did my payment fail?', 'Why did my payment fail?',\n",
              "       'How do I activate my new credit/debit card?',\n",
              "       'What is the maximum amount I can withdraw from an ATM?',\n",
              "       'Where can I find my account number/IBAN/SWIFT code?',\n",
              "       'What are the daily transfer limits?',\n",
              "       'How can I change my transaction limits in the mobile app?',\n",
              "       'How do I update my personal details?',\n",
              "       'What are the bank’s working hours?',\n",
              "       'What should I do if my account is locked?',\n",
              "       'What are the daily transfer limits?',\n",
              "       'What happens after I report a fraudulent transaction?',\n",
              "       'What happens after I report a fraudulent transaction?',\n",
              "       'What are the daily transfer limits?',\n",
              "       'Why hasn’t my transfer gone through?',\n",
              "       'What happens after I report a fraudulent transaction?',\n",
              "       'How do I dispute a transaction?',\n",
              "       'How do I reset my online banking password?',\n",
              "       'How do I avoid monthly maintenance fees?',\n",
              "       'I made a transfer to the wrong account. Can I reverse it?',\n",
              "       'What is the interest rate on loans?',\n",
              "       'What should I do if my card is lost/stolen?',\n",
              "       'How do I open a new bank account?',\n",
              "       'How do I dispute a transaction?',\n",
              "       'How can I change my transaction limits in the mobile app?',\n",
              "       'How can I check my account balance online?',\n",
              "       'Why was I charged a fee on my account?',\n",
              "       'What are the eligibility criteria for a mortgage?',\n",
              "       'How do I activate my new credit/debit card?',\n",
              "       'Can I withdraw money from my savings account before maturity?',\n",
              "       'How can I enable two-factor authentication (2FA)?',\n",
              "       'I made a transfer to the wrong account. Can I reverse it?',\n",
              "       'How do I contact customer service?',\n",
              "       'How do I open a new bank account?',\n",
              "       'How do I request a credit limit increase?',\n",
              "       'Why hasn’t my transfer gone through?',\n",
              "       'How do I register for online banking?',\n",
              "       'I forgot my username/password. How can I recover it?',\n",
              "       'How do I update my personal details?',\n",
              "       'How do I repay my loan early?',\n",
              "       'What is the interest rate on loans?'], dtype=object)"
            ]
          },
          "execution_count": 34,
          "metadata": {},
          "output_type": "execute_result"
        }
      ],
      "source": [
        "mapped_labels"
      ]
    },
    {
      "cell_type": "code",
      "execution_count": null,
      "metadata": {
        "colab": {
          "base_uri": "https://localhost:8080/"
        },
        "id": "Q_VMosjFDwbK",
        "outputId": "9b7eaae0-f5b3-491b-daf9-b47d9a359890"
      },
      "outputs": [
        {
          "name": "stderr",
          "output_type": "stream",
          "text": [
            "WARNING:absl:You are saving your model as an HDF5 file via `model.save()` or `keras.saving.save_model(model)`. This file format is considered legacy. We recommend using instead the native Keras format, e.g. `model.save('my_model.keras')` or `keras.saving.save_model(model, 'my_model.keras')`. \n"
          ]
        }
      ],
      "source": [
        "model_1.save('model_path.h5')"
      ]
    },
    {
      "cell_type": "code",
      "execution_count": null,
      "metadata": {
        "id": "Coyu9hPNEsaQ"
      },
      "outputs": [],
      "source": []
    }
  ],
  "metadata": {
    "colab": {
      "provenance": []
    },
    "kernelspec": {
      "display_name": "Python 3",
      "name": "python3"
    },
    "language_info": {
      "name": "python"
    }
  },
  "nbformat": 4,
  "nbformat_minor": 0
}
